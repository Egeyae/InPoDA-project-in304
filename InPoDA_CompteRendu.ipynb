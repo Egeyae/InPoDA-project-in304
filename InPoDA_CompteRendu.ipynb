{
 "cells": [
  {
   "cell_type": "markdown",
   "id": "3717d4b5828957e3",
   "metadata": {},
   "source": [
    "# [Projet InPoDA - IN304](https://github.com/Egeyae/InPoDA-project-in304) - UVSQ UFR DES SCIENCES\n",
    "#### *Done by KONSTANTINOV Julien and COSSEC Elouan*\n",
    "\n",
    "**Goal:** Make a tweet analysis application *(extracting from french tweets: author, hastags, user mentioned, sentiment, topics)* and performing various data analysis actions\n"
   ]
  },
  {
   "cell_type": "code",
   "execution_count": 1,
   "id": "c6fba842b06bafe3",
   "metadata": {},
   "outputs": [
    {
     "name": "stderr",
     "output_type": "stream",
     "text": [
      "[2024-12-02 16:44:02,872] ::InPoDAPipeline:: (INFO) - Pipeline setup was a success\n"
     ]
    }
   ],
   "source": [
    "### Setup\n",
    "from InPoDA_Pipeline import *\n",
    "\n",
    "# The InPoDA_Pipeline class is used as an interface to use the project\n",
    "# A logger is setup automatically, to remove any logging/log to a file, please update the config.json file\n",
    "pipeline = InPoDAPipeline()\n",
    "pipeline.logger.info(\"Pipeline setup was a success\")"
   ]
  },
  {
   "cell_type": "markdown",
   "id": "dae96c63483b7fd7",
   "metadata": {},
   "source": [
    "### I - Tweets data extraction\n",
    "\n",
    "This part is a detailed explanation on how we extract tweets and parse them into a pandas.Dataframe()"
   ]
  },
  {
   "cell_type": "markdown",
   "id": "35d0fe92-75a3-442a-9a7d-e299a3e28d48",
   "metadata": {},
   "source": [
    "##### ***1.** Load the tweets in memory*"
   ]
  },
  {
   "cell_type": "code",
   "execution_count": 2,
   "id": "8554eb41-ec3d-4ebf-aad6-c904ea5ee680",
   "metadata": {},
   "outputs": [
    {
     "name": "stderr",
     "output_type": "stream",
     "text": [
      "[2024-12-02 16:44:02,875] ::InPoDAPipeline:: (INFO) - Loading tweets...\n"
     ]
    }
   ],
   "source": [
    "tweets = pipeline.load_tweets()"
   ]
  },
  {
   "cell_type": "markdown",
   "id": "6ab9b700-ee17-465b-8d86-c1fcd7eaff38",
   "metadata": {},
   "source": [
    "##### ***2.** Process the tweets in a pandas.DataFrame*"
   ]
  },
  {
   "cell_type": "code",
   "execution_count": 3,
   "id": "e7c1d4e7-f936-4044-944d-84074092b62e",
   "metadata": {},
   "outputs": [
    {
     "name": "stderr",
     "output_type": "stream",
     "text": [
      "[2024-12-02 16:44:02,886] ::InPoDAPipeline:: (INFO) - Processing tweets into a DataFrame...\n"
     ]
    }
   ],
   "source": [
    "dataframe = pipeline.process_tweets_to_dataframe(tweets)"
   ]
  },
  {
   "cell_type": "markdown",
   "id": "591af8ec-d5c8-44fb-a265-fdf1ac85517f",
   "metadata": {},
   "source": [
    "##### *(**3.** Annex: Sentiment Analysis)*\n",
    "\n",
    "For learning purposes, we tried to create our own Neural Network model, trained to find the sentiment of a tweet. We used a Genetic Algorithm approach to explore solutions as we were not at ease with backpropagation. The training dataset is Sentiment140, around 1.6 millions tweets annoted for sentiment analysis. We embedded the training tweets using a multilingual model as the project tweets were in french and Sentiment140's are in english.\n",
    "\n",
    "In the following cells, we try to present the global pipeline of model usage and training. However, training the model can cost a lot in terms of resources, so the code is commented by default."
   ]
  },
  {
   "cell_type": "markdown",
   "id": "f0c32cc8-118e-4b39-8ef0-993ae9de900e",
   "metadata": {},
   "source": [
    "###### **a.** Model loading"
   ]
  },
  {
   "cell_type": "code",
   "execution_count": 4,
   "id": "386fcdc6-2844-4478-a71c-da748b099f12",
   "metadata": {},
   "outputs": [
    {
     "name": "stderr",
     "output_type": "stream",
     "text": [
      "[2024-12-02 16:44:02,889] ::InPoDAPipeline:: (INFO) - Loading a pre-trained creature...\n"
     ]
    },
    {
     "name": "stdout",
     "output_type": "stream",
     "text": [
      "loaaaaaaaaaaaaaaaaaaaaaaaaaaaaaaaaaaaaaaaaaaaaaaaaaading\n"
     ]
    }
   ],
   "source": [
    "# Loads the best pre-computed model\n",
    "pipeline.load_creature()"
   ]
  },
  {
   "cell_type": "markdown",
   "id": "f3224487-79aa-43d6-9c00-156d7413b936",
   "metadata": {},
   "source": [
    "###### **b.** Model usage"
   ]
  },
  {
   "cell_type": "code",
   "execution_count": 5,
   "id": "a4be197a-6032-4ec0-9ee7-47f6758a66b1",
   "metadata": {},
   "outputs": [
    {
     "name": "stderr",
     "output_type": "stream",
     "text": [
      "[2024-12-02 16:44:02,893] ::InPoDAPipeline:: (ERROR) - Best creature not loaded. Can't process input\n"
     ]
    }
   ],
   "source": [
    "# Example usage of the best pre-computed model\n",
    "test_tweet = \"I hate the current weather\"\n",
    "\n",
    "pipeline.process_input(test_tweet)"
   ]
  },
  {
   "cell_type": "markdown",
   "id": "361e0802-14e2-449d-89d8-dd42ff28f7d1",
   "metadata": {},
   "source": [
    "###### (**c.** Model training)"
   ]
  },
  {
   "cell_type": "code",
   "execution_count": 6,
   "id": "f5119740-de82-4bf4-a9f3-1ba43974cc4f",
   "metadata": {},
   "outputs": [
    {
     "name": "stderr",
     "output_type": "stream",
     "text": [
      "[2024-12-02 16:44:02,896] ::InPoDAPipeline:: (INFO) - Loading training data...\n",
      "[2024-12-02 16:44:04,273] ::InPoDAPipeline:: (INFO) - Loaded training data with 1040 tweets.\n"
     ]
    },
    {
     "data": {
      "text/html": [
       "<div>\n",
       "<style scoped>\n",
       "    .dataframe tbody tr th:only-of-type {\n",
       "        vertical-align: middle;\n",
       "    }\n",
       "\n",
       "    .dataframe tbody tr th {\n",
       "        vertical-align: top;\n",
       "    }\n",
       "\n",
       "    .dataframe thead th {\n",
       "        text-align: right;\n",
       "    }\n",
       "</style>\n",
       "<table border=\"1\" class=\"dataframe\">\n",
       "  <thead>\n",
       "    <tr style=\"text-align: right;\">\n",
       "      <th></th>\n",
       "      <th>sentiment</th>\n",
       "      <th>id</th>\n",
       "      <th>date</th>\n",
       "      <th>query</th>\n",
       "      <th>user</th>\n",
       "      <th>text</th>\n",
       "      <th>embeddings</th>\n",
       "    </tr>\n",
       "  </thead>\n",
       "  <tbody>\n",
       "    <tr>\n",
       "      <th>0</th>\n",
       "      <td>[1.0, 0.0]</td>\n",
       "      <td>1467810369</td>\n",
       "      <td>Mon Apr 06 22:19:45 PDT 2009</td>\n",
       "      <td>NO_QUERY</td>\n",
       "      <td>_TheSpecialOne_</td>\n",
       "      <td>http://twitpic.com/2y1zl - Awww, that's a bumm...</td>\n",
       "      <td>[-0.01171, -0.22, 0.1412, 0.001827, 0.259, 0.1...</td>\n",
       "    </tr>\n",
       "    <tr>\n",
       "      <th>1</th>\n",
       "      <td>[1.0, 0.0]</td>\n",
       "      <td>1467810672</td>\n",
       "      <td>Mon Apr 06 22:19:49 PDT 2009</td>\n",
       "      <td>NO_QUERY</td>\n",
       "      <td>scotthamilton</td>\n",
       "      <td>is upset that he can't update his Facebook by ...</td>\n",
       "      <td>[0.1577, -0.10016, -0.32, 0.2515, 0.2886, 0.27...</td>\n",
       "    </tr>\n",
       "    <tr>\n",
       "      <th>2</th>\n",
       "      <td>[1.0, 0.0]</td>\n",
       "      <td>1467810917</td>\n",
       "      <td>Mon Apr 06 22:19:53 PDT 2009</td>\n",
       "      <td>NO_QUERY</td>\n",
       "      <td>mattycus</td>\n",
       "      <td>I dived many times for the ball. Managed to sa...</td>\n",
       "      <td>[-0.0796, -0.1976, -0.2961, 0.2598, 0.3318, -0...</td>\n",
       "    </tr>\n",
       "    <tr>\n",
       "      <th>3</th>\n",
       "      <td>[1.0, 0.0]</td>\n",
       "      <td>1467811184</td>\n",
       "      <td>Mon Apr 06 22:19:57 PDT 2009</td>\n",
       "      <td>NO_QUERY</td>\n",
       "      <td>ElleCTF</td>\n",
       "      <td>my whole body feels itchy and like its on fire</td>\n",
       "      <td>[0.04578, 0.006332, 0.24, 0.1765, 0.269, 0.060...</td>\n",
       "    </tr>\n",
       "    <tr>\n",
       "      <th>4</th>\n",
       "      <td>[1.0, 0.0]</td>\n",
       "      <td>1467811193</td>\n",
       "      <td>Mon Apr 06 22:19:57 PDT 2009</td>\n",
       "      <td>NO_QUERY</td>\n",
       "      <td>Karoli</td>\n",
       "      <td>no, it's not behaving at all. i'm mad. why am ...</td>\n",
       "      <td>[-0.132, -0.2452, -0.2404, 0.1582, 0.08405, 0....</td>\n",
       "    </tr>\n",
       "  </tbody>\n",
       "</table>\n",
       "</div>"
      ],
      "text/plain": [
       "    sentiment          id                          date     query  \\\n",
       "0  [1.0, 0.0]  1467810369  Mon Apr 06 22:19:45 PDT 2009  NO_QUERY   \n",
       "1  [1.0, 0.0]  1467810672  Mon Apr 06 22:19:49 PDT 2009  NO_QUERY   \n",
       "2  [1.0, 0.0]  1467810917  Mon Apr 06 22:19:53 PDT 2009  NO_QUERY   \n",
       "3  [1.0, 0.0]  1467811184  Mon Apr 06 22:19:57 PDT 2009  NO_QUERY   \n",
       "4  [1.0, 0.0]  1467811193  Mon Apr 06 22:19:57 PDT 2009  NO_QUERY   \n",
       "\n",
       "              user                                               text  \\\n",
       "0  _TheSpecialOne_  http://twitpic.com/2y1zl - Awww, that's a bumm...   \n",
       "1    scotthamilton  is upset that he can't update his Facebook by ...   \n",
       "2         mattycus  I dived many times for the ball. Managed to sa...   \n",
       "3          ElleCTF     my whole body feels itchy and like its on fire   \n",
       "4           Karoli  no, it's not behaving at all. i'm mad. why am ...   \n",
       "\n",
       "                                          embeddings  \n",
       "0  [-0.01171, -0.22, 0.1412, 0.001827, 0.259, 0.1...  \n",
       "1  [0.1577, -0.10016, -0.32, 0.2515, 0.2886, 0.27...  \n",
       "2  [-0.0796, -0.1976, -0.2961, 0.2598, 0.3318, -0...  \n",
       "3  [0.04578, 0.006332, 0.24, 0.1765, 0.269, 0.060...  \n",
       "4  [-0.132, -0.2452, -0.2404, 0.1582, 0.08405, 0....  "
      ]
     },
     "execution_count": 6,
     "metadata": {},
     "output_type": "execute_result"
    }
   ],
   "source": [
    "# Loads as a pandas.DataFrame the training data\n",
    "# Configuration can be updated in the `config.json` file\n",
    "\n",
    "pipeline.load_training_data()\n",
    "pipeline.data.head()"
   ]
  },
  {
   "cell_type": "code",
   "execution_count": null,
   "id": "9093ce08-d124-4b32-a64e-59eb15898af2",
   "metadata": {},
   "outputs": [
    {
     "name": "stderr",
     "output_type": "stream",
     "text": [
      "[2024-12-02 16:44:04,287] ::InPoDAPipeline:: (INFO) - Training genetic algorithm...\n"
     ]
    }
   ],
   "source": [
    "# Here we train a model based on the loaded data\n",
    "# Since it is very expensive, it doesn't run by default\n",
    "# ! Be aware that you need to update the save file in `config.json` if you don't want to overide pre-trained model !\n",
    "run = False\n",
    "\n",
    "if run:\n",
    "    pipeline.train_genetic_algorithm()"
   ]
  },
  {
   "cell_type": "markdown",
   "id": "6f5e13327b843cce",
   "metadata": {},
   "source": [
    "### II - Tweets data analysis\n",
    "\n",
    "This part is a presentation of different analysis we can extract from the data provided"
   ]
  },
  {
   "cell_type": "code",
   "execution_count": null,
   "id": "d612d2760280b0c3",
   "metadata": {
    "jupyter": {
     "is_executing": true
    }
   },
   "outputs": [],
   "source": []
  },
  {
   "cell_type": "code",
   "execution_count": null,
   "id": "3fa781b73c33741",
   "metadata": {},
   "outputs": [],
   "source": []
  }
 ],
 "metadata": {
  "kernelspec": {
   "display_name": "Python 3 (ipykernel)",
   "language": "python",
   "name": "python3"
  },
  "language_info": {
   "codemirror_mode": {
    "name": "ipython",
    "version": 3
   },
   "file_extension": ".py",
   "mimetype": "text/x-python",
   "name": "python",
   "nbconvert_exporter": "python",
   "pygments_lexer": "ipython3",
   "version": "3.12.7"
  }
 },
 "nbformat": 4,
 "nbformat_minor": 5
}
