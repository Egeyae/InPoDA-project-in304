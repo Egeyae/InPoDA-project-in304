{
 "cells": [
  {
   "metadata": {},
   "cell_type": "markdown",
   "source": [
    "# [Projet InPoDA - IN304](https://github.com/Egeyae/InPoDA-project-in304) - UVSQ UFR DES SCIENCES\n",
    "#### *Done by KONSTANTINOV Julien and COSSEC Elouan*\n",
    "\n",
    "**Goal:** Make a tweet analysis application *(extracting from french tweets: author, hastags, user mentioned, sentiment, topics)* and performing various data analysis actions\n"
   ],
   "id": "3717d4b5828957e3"
  },
  {
   "metadata": {},
   "cell_type": "markdown",
   "source": "### I - Tweets data extraction",
   "id": "dae96c63483b7fd7"
  },
  {
   "metadata": {},
   "cell_type": "markdown",
   "source": "",
   "id": "1130e57122ce765a"
  },
  {
   "metadata": {},
   "cell_type": "markdown",
   "source": "### II - Tweets data analysis",
   "id": "6f5e13327b843cce"
  },
  {
   "metadata": {},
   "cell_type": "code",
   "outputs": [],
   "execution_count": null,
   "source": "",
   "id": "d612d2760280b0c3"
  }
 ],
 "metadata": {
  "kernelspec": {
   "display_name": "Python 3",
   "language": "python",
   "name": "python3"
  },
  "language_info": {
   "codemirror_mode": {
    "name": "ipython",
    "version": 2
   },
   "file_extension": ".py",
   "mimetype": "text/x-python",
   "name": "python",
   "nbconvert_exporter": "python",
   "pygments_lexer": "ipython2",
   "version": "2.7.6"
  }
 },
 "nbformat": 4,
 "nbformat_minor": 5
}
