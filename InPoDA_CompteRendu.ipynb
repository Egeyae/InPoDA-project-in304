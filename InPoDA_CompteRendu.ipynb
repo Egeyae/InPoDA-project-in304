{
 "cells": [
  {
   "cell_type": "markdown",
   "id": "3717d4b5828957e3",
   "metadata": {},
   "source": [
    "# [Projet InPoDA - IN304](https://github.com/Egeyae/InPoDA-project-in304) - UVSQ UFR DES SCIENCES\n",
    "#### *Done by KONSTANTINOV Julien and COSSEC Elouan*\n",
    "---\n",
    "**Goal:** Make a tweet analysis application *(extracting from french tweets: author, hastags, user mentioned, sentiment, topics)* and performing various data analysis actions\n",
    "\n",
    "**Table of Contents**:\n",
    "\n",
    "    - Part I: How we extract the tweets from the provided file\n",
    "    - Part II: Different analysis operations performed on the tweets\n",
    "    - Part III: Some references used for the project"
   ]
  },
  {
   "cell_type": "markdown",
   "id": "a45b651c-e623-4fb5-b29b-e31b97c6faf6",
   "metadata": {},
   "source": [
    "### Installation\n",
    "---\n",
    "For installation process, please follow the guide in the `README.md` found in the project directory.\n",
    "It is recommended to use a virtual environnement (with `Python 3.12.x` interpreter (or latest supported version by PyTorch))\n"
   ]
  },
  {
   "cell_type": "code",
   "execution_count": 1,
   "id": "c6fba842b06bafe3",
   "metadata": {
    "ExecuteTime": {
     "end_time": "2024-12-09T16:26:12.084063Z",
     "start_time": "2024-12-09T16:26:04.296731Z"
    }
   },
   "outputs": [
    {
     "name": "stderr",
     "output_type": "stream",
     "text": [
      "GPU available: True\n",
      "[2024-12-09 18:52:58,445] ::InPoDAPipeline:: (INFO) - Pipeline setup was a success\n"
     ]
    }
   ],
   "source": [
    "### Setup\n",
    "from InPoDA_Pipeline import *\n",
    "\n",
    "# The InPoDA_Pipeline class is used as an interface to use the project\n",
    "# A logger is set up automatically, to remove any logging/log to a file, please update the config.json file\n",
    "pipeline = InPoDAPipeline()\n",
    "pipeline.logger.info(\"Pipeline setup was a success\")"
   ]
  },
  {
   "cell_type": "markdown",
   "id": "dae96c63483b7fd7",
   "metadata": {},
   "source": [
    "## I - Tweets data extraction\n",
    "---\n",
    "This part is a detailed explanation on how we extract tweets and parse them into a pandas.Dataframe()"
   ]
  },
  {
   "cell_type": "markdown",
   "id": "35d0fe92-75a3-442a-9a7d-e299a3e28d48",
   "metadata": {},
   "source": [
    "##### ***1.** Load the tweets in memory*"
   ]
  },
  {
   "cell_type": "code",
   "execution_count": 2,
   "id": "8554eb41-ec3d-4ebf-aad6-c904ea5ee680",
   "metadata": {
    "ExecuteTime": {
     "end_time": "2024-12-09T16:26:12.216323Z",
     "start_time": "2024-12-09T16:26:12.210754Z"
    }
   },
   "outputs": [
    {
     "name": "stderr",
     "output_type": "stream",
     "text": [
      "[2024-12-09 18:52:58,448] ::InPoDAPipeline:: (INFO) - Loading tweets...\n"
     ]
    }
   ],
   "source": [
    "tweets = pipeline.load_tweets()"
   ]
  },
  {
   "cell_type": "code",
   "execution_count": 3,
   "id": "1b4b6954-ccc7-4707-a0c4-4e3387c60dea",
   "metadata": {
    "ExecuteTime": {
     "end_time": "2024-12-09T16:26:12.439384Z",
     "start_time": "2024-12-09T16:26:12.423150Z"
    },
    "scrolled": true
   },
   "outputs": [
    {
     "data": {
      "text/html": [
       "\n",
       "    <style>\n",
       "        table { \n",
       "            width: 100%; \n",
       "            height: 200px\n",
       "            border-collapse: collapse; \n",
       "            margin-bottom: 20px; \n",
       "        }\n",
       "        th, td { \n",
       "            border: 1px solid #ddd; \n",
       "            padding: 8px; \n",
       "        }\n",
       "        th { \n",
       "            background-color: #f2f2f2; \n",
       "            text-align: left; \n",
       "        }\n",
       "        tr:nth-child(even) { \n",
       "            background-color: #f9f9f9; \n",
       "        }\n",
       "        td:first-child { \n",
       "            width: 20%; /* Set key column to take 20% of the table width */\n",
       "            font-weight: bold; \n",
       "        }\n",
       "        td:last-child { \n",
       "            width: 80%; /* Set value column to take 80% of the table width */\n",
       "        }\n",
       "    </style>\n",
       "    <ul><li><table class=\"table table-bordered\"><tr><th>_id</th><td>1421616335700824064</td></tr><tr><th>public_metrics</th><td><table class=\"table table-bordered\"><tr><th>retweet_count</th><td>0</td></tr><tr><th>reply_count</th><td>0</td></tr><tr><th>like_count</th><td>1</td></tr><tr><th>quote_count</th><td>0</td></tr></table></td></tr><tr><th>id</th><td>1421616335700824064</td></tr><tr><th>conversation_id</th><td>1421616335700824064</td></tr><tr><th>author_id</th><td>1339914264522461187</td></tr><tr><th>text</th><td>Goumin des éléphants joueurs la même fatigue même 😫 #twitter225</td></tr><tr><th>geo</th><td><table class=\"table table-bordered\"><tr><th>place_id</th><td>00b8943291443c8c</td></tr></table></td></tr><tr><th>lang</th><td>fr</td></tr><tr><th>created_at</th><td>2021-07-31T23:38:41.000Z</td></tr><tr><th>entities</th><td><table class=\"table table-bordered\"><tr><th>hashtags</th><td><table class=\"table table-bordered\"><thead><tr><th>start</th><th>end</th><th>tag</th></tr></thead><tbody><tr><td>52</td><td>63</td><td>twitter225</td></tr></tbody></table></td></tr></table></td></tr></table></li><li><table class=\"table table-bordered\"><tr><th>_id</th><td>1421599703116943360</td></tr><tr><th>public_metrics</th><td><table class=\"table table-bordered\"><tr><th>retweet_count</th><td>0</td></tr><tr><th>reply_count</th><td>0</td></tr><tr><th>like_count</th><td>0</td></tr><tr><th>quote_count</th><td>0</td></tr></table></td></tr><tr><th>id</th><td>1421599703116943360</td></tr><tr><th>conversation_id</th><td>1421599703116943360</td></tr><tr><th>context_annotations</th><td><table class=\"table table-bordered\"><thead><tr><th>domain</th><th>entity</th></tr></thead><tbody><tr><td><table class=\"table table-bordered\"><tr><th>id</th><td>6</td></tr><tr><th>name</th><td>Sports Event</td></tr></table></td><td><table class=\"table table-bordered\"><tr><th>id</th><td>1103026158382141440</td></tr><tr><th>name</th><td>Tokyo 2020 Summer Olympics</td></tr><tr><th>description</th><td>Tokyo 2020 Summer Olympics </td></tr></table></td></tr><tr><td><table class=\"table table-bordered\"><tr><th>id</th><td>10</td></tr><tr><th>name</th><td>Person</td></tr><tr><th>description</th><td>Named people in the world like Nelson Mandela</td></tr></table></td><td><table class=\"table table-bordered\"><tr><th>id</th><td>733774054713217024</td></tr><tr><th>name</th><td>Max Gradel</td></tr></table></td></tr><tr><td><table class=\"table table-bordered\"><tr><th>id</th><td>10</td></tr><tr><th>name</th><td>Person</td></tr><tr><th>description</th><td>Named people in the world like Nelson Mandela</td></tr></table></td><td><table class=\"table table-bordered\"><tr><th>id</th><td>733774784014622720</td></tr><tr><th>name</th><td>Eric Bailly</td></tr></table></td></tr><tr><td><table class=\"table table-bordered\"><tr><th>id</th><td>60</td></tr><tr><th>name</th><td>Athlete</td></tr><tr><th>description</th><td>An athlete in the world, like Serena Williams or Lionel Messi</td></tr></table></td><td><table class=\"table table-bordered\"><tr><th>id</th><td>733774054713217024</td></tr><tr><th>name</th><td>Max Gradel</td></tr></table></td></tr><tr><td><table class=\"table table-bordered\"><tr><th>id</th><td>60</td></tr><tr><th>name</th><td>Athlete</td></tr><tr><th>description</th><td>An athlete in the world, like Serena Williams or Lionel Messi</td></tr></table></td><td><table class=\"table table-bordered\"><tr><th>id</th><td>733774784014622720</td></tr><tr><th>name</th><td>Eric Bailly</td></tr></table></td></tr></tbody></table></td></tr><tr><th>entities</th><td><table class=\"table table-bordered\"><tr><th>mentions</th><td><table class=\"table table-bordered\"><thead><tr><th>start</th><th>end</th><th>username</th><th>id</th></tr></thead><tbody><tr><td>0</td><td>13</td><td>ericbailly24</td><td>4827016745</td></tr><tr><td>14</td><td>26</td><td>maxigr04del</td><td>254068589</td></tr></tbody></table></td></tr><tr><th>hashtags</th><td><table class=\"table table-bordered\"><thead><tr><th>start</th><th>end</th><th>tag</th></tr></thead><tbody><tr><td>126</td><td>142</td><td>SupportriceMazo</td></tr><tr><td>143</td><td>149</td><td>domie</td></tr><tr><td>150</td><td>154</td><td>CIV</td></tr></tbody></table></td></tr></table></td></tr><tr><th>author_id</th><td>1339914264522461187</td></tr><tr><th>text</th><td>@ericbailly24 @maxigr04del  mes tontons vous avez fait votre part , JO prochain on ira en demi final au moins. BRAVO à vous . #SupportriceMazo #domie #CIV</td></tr><tr><th>geo</th><td><table class=\"table table-bordered\"><tr><th>place_id</th><td>00b8943291443c8c</td></tr></table></td></tr><tr><th>lang</th><td>fr</td></tr><tr><th>created_at</th><td>2021-07-31T22:32:35.000Z</td></tr></table></li><li><table class=\"table table-bordered\"><tr><th>_id</th><td>1421599163561742339</td></tr><tr><th>public_metrics</th><td><table class=\"table table-bordered\"><tr><th>retweet_count</th><td>0</td></tr><tr><th>reply_count</th><td>1</td></tr><tr><th>like_count</th><td>1</td></tr><tr><th>quote_count</th><td>0</td></tr></table></td></tr><tr><th>id</th><td>1421599163561742339</td></tr><tr><th>conversation_id</th><td>1421599163561742339</td></tr><tr><th>context_annotations</th><td><table class=\"table table-bordered\"><thead><tr><th>domain</th><th>entity</th></tr></thead><tbody><tr><td><table class=\"table table-bordered\"><tr><th>id</th><td>6</td></tr><tr><th>name</th><td>Sports Event</td></tr></table></td><td><table class=\"table table-bordered\"><tr><th>id</th><td>1103026158382141440</td></tr><tr><th>name</th><td>Tokyo 2020 Summer Olympics</td></tr><tr><th>description</th><td>Tokyo 2020 Summer Olympics </td></tr></table></td></tr></tbody></table></td></tr><tr><th>author_id</th><td>1339914264522461187</td></tr><tr><th>text</th><td>Ah oui le sommeil là sera compliqué. #CIV  est éliminé des JO , Ahi on peut faire ça ?</td></tr><tr><th>geo</th><td><table class=\"table table-bordered\"><tr><th>place_id</th><td>00b8943291443c8c</td></tr></table></td></tr><tr><th>lang</th><td>fr</td></tr><tr><th>created_at</th><td>2021-07-31T22:30:27.000Z</td></tr><tr><th>entities</th><td><table class=\"table table-bordered\"><tr><th>hashtags</th><td><table class=\"table table-bordered\"><thead><tr><th>start</th><th>end</th><th>tag</th></tr></thead><tbody><tr><td>37</td><td>41</td><td>CIV</td></tr></tbody></table></td></tr></table></td></tr></table></li><li><table class=\"table table-bordered\"><tr><th>_id</th><td>1421591889095057416</td></tr><tr><th>public_metrics</th><td><table class=\"table table-bordered\"><tr><th>retweet_count</th><td>0</td></tr><tr><th>reply_count</th><td>0</td></tr><tr><th>like_count</th><td>0</td></tr><tr><th>quote_count</th><td>0</td></tr></table></td></tr><tr><th>id</th><td>1421591889095057416</td></tr><tr><th>conversation_id</th><td>1421591889095057416</td></tr><tr><th>author_id</th><td>1339914264522461187</td></tr><tr><th>text</th><td>31 juillet , journée internationale de la femme africaine ❤️#jifa</td></tr><tr><th>geo</th><td><table class=\"table table-bordered\"><tr><th>place_id</th><td>00b8943291443c8c</td></tr></table></td></tr><tr><th>lang</th><td>fr</td></tr><tr><th>created_at</th><td>2021-07-31T22:01:32.000Z</td></tr><tr><th>entities</th><td><table class=\"table table-bordered\"><tr><th>hashtags</th><td><table class=\"table table-bordered\"><thead><tr><th>start</th><th>end</th><th>tag</th></tr></thead><tbody><tr><td>60</td><td>65</td><td>jifa</td></tr></tbody></table></td></tr></table></td></tr></table></li><li><table class=\"table table-bordered\"><tr><th>_id</th><td>1421582795294617605</td></tr><tr><th>public_metrics</th><td><table class=\"table table-bordered\"><tr><th>retweet_count</th><td>0</td></tr><tr><th>reply_count</th><td>0</td></tr><tr><th>like_count</th><td>1</td></tr><tr><th>quote_count</th><td>0</td></tr></table></td></tr><tr><th>id</th><td>1421582795294617605</td></tr><tr><th>conversation_id</th><td>1421582795294617605</td></tr><tr><th>author_id</th><td>717025418</td></tr><tr><th>text</th><td>Le pedigree 😂😂😂😂 https://t.co/D3Rv7A2BOF</td></tr><tr><th>geo</th><td><table class=\"table table-bordered\"><tr><th>place_id</th><td>00b8943291443c8c</td></tr></table></td></tr><tr><th>lang</th><td>es</td></tr><tr><th>created_at</th><td>2021-07-31T21:25:24.000Z</td></tr><tr><th>entities</th><td><table class=\"table table-bordered\"><tr><th>urls</th><td><table class=\"table table-bordered\"><thead><tr><th>start</th><th>end</th><th>url</th><th>expanded_url</th><th>display_url</th></tr></thead><tbody><tr><td>17</td><td>40</td><td>https://t.co/D3Rv7A2BOF</td><td>https://twitter.com/denilevrai/status/1421177226733686788</td><td>twitter.com/denilevrai/sta…</td></tr></tbody></table></td></tr></table></td></tr></table></li><li><table class=\"table table-bordered\"><tr><th>_id</th><td>1421581383454052359</td></tr><tr><th>public_metrics</th><td><table class=\"table table-bordered\"><tr><th>retweet_count</th><td>2</td></tr><tr><th>reply_count</th><td>0</td></tr><tr><th>like_count</th><td>4</td></tr><tr><th>quote_count</th><td>0</td></tr></table></td></tr><tr><th>id</th><td>1421581383454052359</td></tr><tr><th>conversation_id</th><td>1421256177359466498</td></tr><tr><th>entities</th><td><table class=\"table table-bordered\"><tr><th>mentions</th><td><table class=\"table table-bordered\"><thead><tr><th>start</th><th>end</th><th>username</th><th>id</th></tr></thead><tbody><tr><td>0</td><td>15</td><td>isabelle170516</td><td>781489936184651776</td></tr><tr><td>16</td><td>29</td><td>leonna_julie</td><td>3200704501</td></tr><tr><td>30</td><td>42</td><td>Steiner2502</td><td>1246352652700659713</td></tr></tbody></table></td></tr></table></td></tr><tr><th>author_id</th><td>992904738516717570</td></tr><tr><th>text</th><td>@isabelle170516 @leonna_julie @Steiner2502 Vous avez tt à fait raison! le silence incompréhensible du gouver-noument et des merdias sur ce très important et dramatique sujet prouve de manière irréfutable\n",
       " leur implication à ce plan  diabolique maquillé!</td></tr><tr><th>geo</th><td><table class=\"table table-bordered\"><tr><th>place_id</th><td>011a304d683c2461</td></tr></table></td></tr><tr><th>lang</th><td>fr</td></tr><tr><th>created_at</th><td>2021-07-31T21:19:48.000Z</td></tr></table></li><li><table class=\"table table-bordered\"><tr><th>_id</th><td>1421575939700445184</td></tr><tr><th>public_metrics</th><td><table class=\"table table-bordered\"><tr><th>retweet_count</th><td>0</td></tr><tr><th>reply_count</th><td>0</td></tr><tr><th>like_count</th><td>1</td></tr><tr><th>quote_count</th><td>0</td></tr></table></td></tr><tr><th>id</th><td>1421575939700445184</td></tr><tr><th>conversation_id</th><td>1421256177359466498</td></tr><tr><th>entities</th><td><table class=\"table table-bordered\"><tr><th>mentions</th><td><table class=\"table table-bordered\"><thead><tr><th>start</th><th>end</th><th>username</th><th>id</th></tr></thead><tbody><tr><td>0</td><td>10</td><td>LynLyna12</td><td>1355767640036438016</td></tr><tr><td>11</td><td>24</td><td>leonna_julie</td><td>3200704501</td></tr></tbody></table></td></tr></table></td></tr><tr><th>author_id</th><td>992904738516717570</td></tr><tr><th>text</th><td>@LynLyna12 @leonna_julie La grande muette continue et continuera de le rester! À part quelques irréductibles à la retraite?</td></tr><tr><th>geo</th><td><table class=\"table table-bordered\"><tr><th>place_id</th><td>011a304d683c2461</td></tr></table></td></tr><tr><th>lang</th><td>fr</td></tr><tr><th>created_at</th><td>2021-07-31T20:58:10.000Z</td></tr></table></li><li><table class=\"table table-bordered\"><tr><th>_id</th><td>1421569996858269697</td></tr><tr><th>public_metrics</th><td><table class=\"table table-bordered\"><tr><th>retweet_count</th><td>0</td></tr><tr><th>reply_count</th><td>0</td></tr><tr><th>like_count</th><td>0</td></tr><tr><th>quote_count</th><td>0</td></tr></table></td></tr><tr><th>id</th><td>1421569996858269697</td></tr><tr><th>conversation_id</th><td>1421569996858269697</td></tr><tr><th>author_id</th><td>736523371</td></tr><tr><th>text</th><td>Under wsh 😳😳😳</td></tr><tr><th>geo</th><td><table class=\"table table-bordered\"><tr><th>place_id</th><td>011a304d683c2461</td></tr></table></td></tr><tr><th>lang</th><td>en</td></tr><tr><th>created_at</th><td>2021-07-31T20:34:33.000Z</td></tr></table></li><li><table class=\"table table-bordered\"><tr><th>_id</th><td>1421563798503272448</td></tr><tr><th>public_metrics</th><td><table class=\"table table-bordered\"><tr><th>retweet_count</th><td>0</td></tr><tr><th>reply_count</th><td>0</td></tr><tr><th>like_count</th><td>0</td></tr><tr><th>quote_count</th><td>0</td></tr></table></td></tr><tr><th>id</th><td>1421563798503272448</td></tr><tr><th>conversation_id</th><td>1421563798503272448</td></tr><tr><th>author_id</th><td>1471684208</td></tr><tr><th>text</th><td>Les bains d&#x27;apollon #versailles #nocturne #appollon à Château de Versailles https://t.co/SFGXP06r61</td></tr><tr><th>geo</th><td><table class=\"table table-bordered\"><tr><th>place_id</th><td>011a304d683c2461</td></tr><tr><th>coordinates</th><td><table class=\"table table-bordered\"><tr><th>type</th><td>Point</td></tr><tr><th>coordinates</th><td><ul><li>2.12305963</li><li>48.80396808</li></ul></td></tr></table></td></tr></table></td></tr><tr><th>lang</th><td>fr</td></tr><tr><th>created_at</th><td>2021-07-31T20:09:55.000Z</td></tr><tr><th>entities</th><td><table class=\"table table-bordered\"><tr><th>urls</th><td><table class=\"table table-bordered\"><thead><tr><th>start</th><th>end</th><th>url</th><th>expanded_url</th><th>display_url</th></tr></thead><tbody><tr><td>76</td><td>99</td><td>https://t.co/SFGXP06r61</td><td>https://www.instagram.com/p/CSASOyUN0OF/?utm_medium=twitter</td><td>instagram.com/p/CSASOyUN0OF/…</td></tr></tbody></table></td></tr><tr><th>hashtags</th><td><table class=\"table table-bordered\"><thead><tr><th>start</th><th>end</th><th>tag</th></tr></thead><tbody><tr><td>20</td><td>31</td><td>versailles</td></tr><tr><td>32</td><td>41</td><td>nocturne</td></tr><tr><td>42</td><td>51</td><td>appollon</td></tr></tbody></table></td></tr></table></td></tr></table></li><li><table class=\"table table-bordered\"><tr><th>_id</th><td>1421562928176803848</td></tr><tr><th>attachments</th><td><table class=\"table table-bordered\"><tr><th>media_keys</th><td><ul><li>3_1421562925999869960</li></ul></td></tr></table></td></tr><tr><th>public_metrics</th><td><table class=\"table table-bordered\"><tr><th>retweet_count</th><td>1</td></tr><tr><th>reply_count</th><td>0</td></tr><tr><th>like_count</th><td>2</td></tr><tr><th>quote_count</th><td>0</td></tr></table></td></tr><tr><th>id</th><td>1421562928176803848</td></tr><tr><th>conversation_id</th><td>1421553997811421184</td></tr><tr><th>entities</th><td><table class=\"table table-bordered\"><tr><th>mentions</th><td><table class=\"table table-bordered\"><thead><tr><th>start</th><th>end</th><th>username</th><th>id</th></tr></thead><tbody><tr><td>0</td><td>13</td><td>leonna_julie</td><td>3200704501</td></tr></tbody></table></td></tr><tr><th>urls</th><td><table class=\"table table-bordered\"><thead><tr><th>start</th><th>end</th><th>url</th><th>expanded_url</th><th>display_url</th></tr></thead><tbody><tr><td>279</td><td>302</td><td>https://t.co/F6zvVfWwAf</td><td>https://twitter.com/jol45026290/status/1421562928176803848/photo/1</td><td>pic.twitter.com/F6zvVfWwAf</td></tr></tbody></table></td></tr></table></td></tr><tr><th>author_id</th><td>992904738516717570</td></tr><tr><th>text</th><td>@leonna_julie Le rdv aujourd&#x27;hui aura  tenu ses promesses!👍🤗✌️✊🏼✊🏼\n",
       " Pour les problèmes de sommeil  1 cachet à la mélatonine 1,80 mg et je dors comme un bébé!  Réveil en pleine forme assuré!💪🏼 Et sans acoutumances, pas comme avec ces béquilles chimiques!😵‍💫\n",
       "Bonne soirée Julie!🌆🌈 https://t.co/F6zvVfWwAf</td></tr><tr><th>geo</th><td><table class=\"table table-bordered\"><tr><th>place_id</th><td>011a304d683c2461</td></tr></table></td></tr><tr><th>lang</th><td>fr</td></tr><tr><th>created_at</th><td>2021-07-31T20:06:28.000Z</td></tr></table></li><li><table class=\"table table-bordered\"><tr><th>_id</th><td>1421560592775761923</td></tr><tr><th>public_metrics</th><td><table class=\"table table-bordered\"><tr><th>retweet_count</th><td>0</td></tr><tr><th>reply_count</th><td>0</td></tr><tr><th>like_count</th><td>0</td></tr><tr><th>quote_count</th><td>0</td></tr></table></td></tr><tr><th>id</th><td>1421560592775761923</td></tr><tr><th>conversation_id</th><td>1421527117720866818</td></tr><tr><th>entities</th><td><table class=\"table table-bordered\"><tr><th>mentions</th><td><table class=\"table table-bordered\"><thead><tr><th>start</th><th>end</th><th>username</th><th>id</th></tr></thead><tbody><tr><td>0</td><td>12</td><td>miliemelo82</td><td>741140155</td></tr><tr><td>13</td><td>27</td><td>kilianbridoux</td><td>3177350307</td></tr><tr><td>28</td><td>37</td><td>LeMeneec</td><td>117205564</td></tr></tbody></table></td></tr></table></td></tr><tr><th>author_id</th><td>3169236915</td></tr><tr><th>text</th><td>@miliemelo82 @kilianbridoux @LeMeneec il est temps de laisser mijoter</td></tr><tr><th>geo</th><td><table class=\"table table-bordered\"><tr><th>place_id</th><td>011a304d683c2461</td></tr></table></td></tr><tr><th>lang</th><td>fr</td></tr><tr><th>created_at</th><td>2021-07-31T19:57:11.000Z</td></tr></table></li><li><table class=\"table table-bordered\"><tr><th>_id</th><td>1421558089761935365</td></tr><tr><th>public_metrics</th><td><table class=\"table table-bordered\"><tr><th>retweet_count</th><td>0</td></tr><tr><th>reply_count</th><td>0</td></tr><tr><th>like_count</th><td>0</td></tr><tr><th>quote_count</th><td>0</td></tr></table></td></tr><tr><th>id</th><td>1421558089761935365</td></tr><tr><th>conversation_id</th><td>1421231846814330889</td></tr><tr><th>entities</th><td><table class=\"table table-bordered\"><tr><th>mentions</th><td><table class=\"table table-bordered\"><thead><tr><th>start</th><th>end</th><th>username</th><th>id</th></tr></thead><tbody><tr><td>0</td><td>13</td><td>Polo82810715</td><td>1071056487278104577</td></tr><tr><td>14</td><td>28</td><td>lrestistant73</td><td>4216955975</td></tr></tbody></table></td></tr></table></td></tr><tr><th>author_id</th><td>992904738516717570</td></tr><tr><th>text</th><td>@Polo82810715 @lrestistant73 Un mouton c&#x27;est  bien plus intelligent que toi! 🪳</td></tr><tr><th>geo</th><td><table class=\"table table-bordered\"><tr><th>place_id</th><td>011a304d683c2461</td></tr></table></td></tr><tr><th>lang</th><td>fr</td></tr><tr><th>created_at</th><td>2021-07-31T19:47:14.000Z</td></tr></table></li><li><table class=\"table table-bordered\"><tr><th>_id</th><td>1421551384512585729</td></tr><tr><th>public_metrics</th><td><table class=\"table table-bordered\"><tr><th>retweet_count</th><td>0</td></tr><tr><th>reply_count</th><td>0</td></tr><tr><th>like_count</th><td>0</td></tr><tr><th>quote_count</th><td>0</td></tr></table></td></tr><tr><th>id</th><td>1421551384512585729</td></tr><tr><th>conversation_id</th><td>1421551384512585729</td></tr><tr><th>author_id</th><td>16267684</td></tr><tr><th>text</th><td>I&#x27;m at Gardens of Versailles in Versailles, Île-de-France https://t.co/fG7Q40cjWk</td></tr><tr><th>geo</th><td><table class=\"table table-bordered\"><tr><th>place_id</th><td>011a304d683c2461</td></tr><tr><th>coordinates</th><td><table class=\"table table-bordered\"><tr><th>type</th><td>Point</td></tr><tr><th>coordinates</th><td><ul><li>2.11619854</li><li>48.80581768</li></ul></td></tr></table></td></tr></table></td></tr><tr><th>lang</th><td>fr</td></tr><tr><th>created_at</th><td>2021-07-31T19:20:35.000Z</td></tr><tr><th>entities</th><td><table class=\"table table-bordered\"><tr><th>urls</th><td><table class=\"table table-bordered\"><thead><tr><th>start</th><th>end</th><th>url</th><th>expanded_url</th><th>display_url</th></tr></thead><tbody><tr><td>58</td><td>81</td><td>https://t.co/fG7Q40cjWk</td><td>https://www.swarmapp.com/c/1JyyDAtYgkf</td><td>swarmapp.com/c/1JyyDAtYgkf</td></tr></tbody></table></td></tr></table></td></tr></table></li><li><table class=\"table table-bordered\"><tr><th>_id</th><td>1421550148061212673</td></tr><tr><th>public_metrics</th><td><table class=\"table table-bordered\"><tr><th>retweet_count</th><td>0</td></tr><tr><th>reply_count</th><td>0</td></tr><tr><th>like_count</th><td>0</td></tr><tr><th>quote_count</th><td>0</td></tr></table></td></tr><tr><th>id</th><td>1421550148061212673</td></tr><tr><th>conversation_id</th><td>1421550148061212673</td></tr><tr><th>context_annotations</th><td><table class=\"table table-bordered\"><thead><tr><th>domain</th><th>entity</th></tr></thead><tbody><tr><td><table class=\"table table-bordered\"><tr><th>id</th><td>86</td></tr><tr><th>name</th><td>Movie</td></tr><tr><th>description</th><td>A film like Rogue One: A Star Wars Story</td></tr></table></td><td><table class=\"table table-bordered\"><tr><th>id</th><td>1412046984840503297</td></tr><tr><th>name</th><td>Jungle Cruise</td></tr><tr><th>description</th><td>Jungle Cruise is scheduled to be released in the United States on July 30, 2021, simultaneously in theaters and through Disney+ with Premier Access.</td></tr></table></td></tr><tr><td><table class=\"table table-bordered\"><tr><th>id</th><td>87</td></tr><tr><th>name</th><td>Movie Genre</td></tr><tr><th>description</th><td>A movie genre like Action</td></tr></table></td><td><table class=\"table table-bordered\"><tr><th>id</th><td>856976360337661952</td></tr><tr><th>name</th><td>Action &amp; adventure films</td></tr><tr><th>description</th><td>Action and adventure</td></tr></table></td></tr></tbody></table></td></tr><tr><th>author_id</th><td>60117154</td></tr><tr><th>text</th><td>Jungle Cruise https://t.co/JyM8WQjz4p (@ UGC Cyrano in Versailles, Île-de-France) https://t.co/ts0FrwWU8W</td></tr><tr><th>geo</th><td><table class=\"table table-bordered\"><tr><th>place_id</th><td>011a304d683c2461</td></tr><tr><th>coordinates</th><td><table class=\"table table-bordered\"><tr><th>type</th><td>Point</td></tr><tr><th>coordinates</th><td><ul><li>2.13096244</li><li>48.80797406</li></ul></td></tr></table></td></tr></table></td></tr><tr><th>lang</th><td>fr</td></tr><tr><th>created_at</th><td>2021-07-31T19:15:41.000Z</td></tr><tr><th>entities</th><td><table class=\"table table-bordered\"><tr><th>urls</th><td><table class=\"table table-bordered\"><thead><tr><th>start</th><th>end</th><th>url</th><th>expanded_url</th><th>display_url</th></tr></thead><tbody><tr><td>14</td><td>37</td><td>https://t.co/JyM8WQjz4p</td><td>http://www.allocine.fr/film/fichefilm_gen_cfilm=57197.html</td><td>allocine.fr/film/fichefilm…</td></tr><tr><td>82</td><td>105</td><td>https://t.co/ts0FrwWU8W</td><td>https://www.swarmapp.com/c/jsDjL5Jou3S</td><td>swarmapp.com/c/jsDjL5Jou3S</td></tr></tbody></table></td></tr></table></td></tr></table></li><li><table class=\"table table-bordered\"><tr><th>_id</th><td>1421547651171078146</td></tr><tr><th>public_metrics</th><td><table class=\"table table-bordered\"><tr><th>retweet_count</th><td>0</td></tr><tr><th>reply_count</th><td>1</td></tr><tr><th>like_count</th><td>0</td></tr><tr><th>quote_count</th><td>0</td></tr></table></td></tr><tr><th>id</th><td>1421547651171078146</td></tr><tr><th>conversation_id</th><td>1421516307393044481</td></tr><tr><th>entities</th><td><table class=\"table table-bordered\"><tr><th>mentions</th><td><table class=\"table table-bordered\"><thead><tr><th>start</th><th>end</th><th>username</th><th>id</th></tr></thead><tbody><tr><td>0</td><td>11</td><td>Pauluskupa</td><td>109006566</td></tr></tbody></table></td></tr></table></td></tr><tr><th>author_id</th><td>3169236915</td></tr><tr><th>text</th><td>@Pauluskupa 🤦🏼‍♀️</td></tr><tr><th>geo</th><td><table class=\"table table-bordered\"><tr><th>place_id</th><td>011a304d683c2461</td></tr></table></td></tr><tr><th>lang</th><td>und</td></tr><tr><th>created_at</th><td>2021-07-31T19:05:45.000Z</td></tr></table></li><li><table class=\"table table-bordered\"><tr><th>_id</th><td>1421499497620836356</td></tr><tr><th>public_metrics</th><td><table class=\"table table-bordered\"><tr><th>retweet_count</th><td>0</td></tr><tr><th>reply_count</th><td>0</td></tr><tr><th>like_count</th><td>0</td></tr><tr><th>quote_count</th><td>0</td></tr></table></td></tr><tr><th>id</th><td>1421499497620836356</td></tr><tr><th>conversation_id</th><td>1421499497620836356</td></tr><tr><th>context_annotations</th><td><table class=\"table table-bordered\"><thead><tr><th>domain</th><th>entity</th></tr></thead><tbody><tr><td><table class=\"table table-bordered\"><tr><th>id</th><td>10</td></tr><tr><th>name</th><td>Person</td></tr><tr><th>description</th><td>Named people in the world like Nelson Mandela</td></tr></table></td><td><table class=\"table table-bordered\"><tr><th>id</th><td>1322196533488492544</td></tr><tr><th>name</th><td>Annie Mac</td></tr></table></td></tr><tr><td><table class=\"table table-bordered\"><tr><th>id</th><td>54</td></tr><tr><th>name</th><td>Musician</td></tr><tr><th>description</th><td>A musician in the world, like Adele or Bob Dylan</td></tr></table></td><td><table class=\"table table-bordered\"><tr><th>id</th><td>1322196533488492544</td></tr><tr><th>name</th><td>Annie Mac</td></tr></table></td></tr></tbody></table></td></tr><tr><th>entities</th><td><table class=\"table table-bordered\"><tr><th>mentions</th><td><table class=\"table table-bordered\"><thead><tr><th>start</th><th>end</th><th>username</th><th>id</th></tr></thead><tbody><tr><td>0</td><td>14</td><td>anniemacmanus</td><td>19811019</td></tr></tbody></table></td></tr></table></td></tr><tr><th>author_id</th><td>372993152</td></tr><tr><th>text</th><td>@anniemacmanus legend!!!!</td></tr><tr><th>geo</th><td><table class=\"table table-bordered\"><tr><th>place_id</th><td>011a304d683c2461</td></tr></table></td></tr><tr><th>lang</th><td>en</td></tr><tr><th>created_at</th><td>2021-07-31T15:54:25.000Z</td></tr></table></li><li><table class=\"table table-bordered\"><tr><th>_id</th><td>1421499329974579200</td></tr><tr><th>public_metrics</th><td><table class=\"table table-bordered\"><tr><th>retweet_count</th><td>0</td></tr><tr><th>reply_count</th><td>0</td></tr><tr><th>like_count</th><td>0</td></tr><tr><th>quote_count</th><td>0</td></tr></table></td></tr><tr><th>id</th><td>1421499329974579200</td></tr><tr><th>conversation_id</th><td>1421165014254301191</td></tr><tr><th>context_annotations</th><td><table class=\"table table-bordered\"><thead><tr><th>domain</th><th>entity</th></tr></thead><tbody><tr><td><table class=\"table table-bordered\"><tr><th>id</th><td>10</td></tr><tr><th>name</th><td>Person</td></tr><tr><th>description</th><td>Named people in the world like Nelson Mandela</td></tr></table></td><td><table class=\"table table-bordered\"><tr><th>id</th><td>1093501110977875968</td></tr><tr><th>name</th><td>Yebba</td></tr><tr><th>description</th><td>American singer </td></tr></table></td></tr><tr><td><table class=\"table table-bordered\"><tr><th>id</th><td>10</td></tr><tr><th>name</th><td>Person</td></tr><tr><th>description</th><td>Named people in the world like Nelson Mandela</td></tr></table></td><td><table class=\"table table-bordered\"><tr><th>id</th><td>1322196533488492544</td></tr><tr><th>name</th><td>Annie Mac</td></tr></table></td></tr><tr><td><table class=\"table table-bordered\"><tr><th>id</th><td>54</td></tr><tr><th>name</th><td>Musician</td></tr><tr><th>description</th><td>A musician in the world, like Adele or Bob Dylan</td></tr></table></td><td><table class=\"table table-bordered\"><tr><th>id</th><td>1093501110977875968</td></tr><tr><th>name</th><td>Yebba</td></tr><tr><th>description</th><td>American singer </td></tr></table></td></tr><tr><td><table class=\"table table-bordered\"><tr><th>id</th><td>54</td></tr><tr><th>name</th><td>Musician</td></tr><tr><th>description</th><td>A musician in the world, like Adele or Bob Dylan</td></tr></table></td><td><table class=\"table table-bordered\"><tr><th>id</th><td>1322196533488492544</td></tr><tr><th>name</th><td>Annie Mac</td></tr></table></td></tr><tr><td><table class=\"table table-bordered\"><tr><th>id</th><td>55</td></tr><tr><th>name</th><td>Music Genre</td></tr><tr><th>description</th><td>A category for a musical style, like Pop, Rock, or Rap</td></tr></table></td><td><table class=\"table table-bordered\"><tr><th>id</th><td>849684490691657728</td></tr><tr><th>name</th><td>Jazz</td></tr><tr><th>description</th><td>Jazz</td></tr></table></td></tr></tbody></table></td></tr><tr><th>entities</th><td><table class=\"table table-bordered\"><tr><th>mentions</th><td><table class=\"table table-bordered\"><thead><tr><th>start</th><th>end</th><th>username</th><th>id</th></tr></thead><tbody><tr><td>0</td><td>11</td><td>yebbasmith</td><td>979128640125386753</td></tr><tr><td>12</td><td>26</td><td>anniemacmanus</td><td>19811019</td></tr></tbody></table></td></tr></table></td></tr><tr><th>author_id</th><td>372993152</td></tr><tr><th>text</th><td>@yebbasmith @anniemacmanus 😍</td></tr><tr><th>geo</th><td><table class=\"table table-bordered\"><tr><th>place_id</th><td>011a304d683c2461</td></tr></table></td></tr><tr><th>lang</th><td>und</td></tr><tr><th>created_at</th><td>2021-07-31T15:53:45.000Z</td></tr></table></li><li><table class=\"table table-bordered\"><tr><th>_id</th><td>1421487092023050244</td></tr><tr><th>public_metrics</th><td><table class=\"table table-bordered\"><tr><th>retweet_count</th><td>0</td></tr><tr><th>reply_count</th><td>0</td></tr><tr><th>like_count</th><td>0</td></tr><tr><th>quote_count</th><td>0</td></tr></table></td></tr><tr><th>id</th><td>1421487092023050244</td></tr><tr><th>conversation_id</th><td>1421487092023050244</td></tr><tr><th>author_id</th><td>105241852</td></tr><tr><th>text</th><td>Vient de publier une photo à Quelquepart ... https://t.co/fWNqGJosAA</td></tr><tr><th>geo</th><td><table class=\"table table-bordered\"><tr><th>place_id</th><td>00b8943291443c8c</td></tr><tr><th>coordinates</th><td><table class=\"table table-bordered\"><tr><th>type</th><td>Point</td></tr><tr><th>coordinates</th><td><ul><li>2.122554</li><li>48.82283103</li></ul></td></tr></table></td></tr></table></td></tr><tr><th>lang</th><td>fr</td></tr><tr><th>created_at</th><td>2021-07-31T15:05:07.000Z</td></tr><tr><th>entities</th><td><table class=\"table table-bordered\"><tr><th>urls</th><td><table class=\"table table-bordered\"><thead><tr><th>start</th><th>end</th><th>url</th><th>expanded_url</th><th>display_url</th></tr></thead><tbody><tr><td>45</td><td>68</td><td>https://t.co/fWNqGJosAA</td><td>https://www.instagram.com/p/CR_vWNFsMLR/?utm_medium=twitter</td><td>instagram.com/p/CR_vWNFsMLR/…</td></tr></tbody></table></td></tr></table></td></tr></table></li><li><table class=\"table table-bordered\"><tr><th>_id</th><td>1421472953980571651</td></tr><tr><th>public_metrics</th><td><table class=\"table table-bordered\"><tr><th>retweet_count</th><td>0</td></tr><tr><th>reply_count</th><td>1</td></tr><tr><th>like_count</th><td>0</td></tr><tr><th>quote_count</th><td>0</td></tr></table></td></tr><tr><th>id</th><td>1421472953980571651</td></tr><tr><th>conversation_id</th><td>1421384380841353225</td></tr><tr><th>entities</th><td><table class=\"table table-bordered\"><tr><th>mentions</th><td><table class=\"table table-bordered\"><thead><tr><th>start</th><th>end</th><th>username</th><th>id</th></tr></thead><tbody><tr><td>0</td><td>11</td><td>AzmiAnees3</td><td>1201159700395384832</td></tr></tbody></table></td></tr></table></td></tr><tr><th>author_id</th><td>2357913366</td></tr><tr><th>text</th><td>@AzmiAnees3 He was my lover’s accomplice😂🤣🤣</td></tr><tr><th>geo</th><td><table class=\"table table-bordered\"><tr><th>place_id</th><td>011a304d683c2461</td></tr></table></td></tr><tr><th>lang</th><td>en</td></tr><tr><th>created_at</th><td>2021-07-31T14:08:56.000Z</td></tr></table></li><li><table class=\"table table-bordered\"><tr><th>_id</th><td>1421429486432686081</td></tr><tr><th>public_metrics</th><td><table class=\"table table-bordered\"><tr><th>retweet_count</th><td>2</td></tr><tr><th>reply_count</th><td>1</td></tr><tr><th>like_count</th><td>2</td></tr><tr><th>quote_count</th><td>0</td></tr></table></td></tr><tr><th>id</th><td>1421429486432686081</td></tr><tr><th>conversation_id</th><td>1421429486432686081</td></tr><tr><th>author_id</th><td>717025418</td></tr><tr><th>text</th><td>Le gardien lui parle non ? https://t.co/e3WewDSQOJ</td></tr><tr><th>geo</th><td><table class=\"table table-bordered\"><tr><th>place_id</th><td>00b8943291443c8c</td></tr></table></td></tr><tr><th>lang</th><td>fr</td></tr><tr><th>created_at</th><td>2021-07-31T11:16:13.000Z</td></tr><tr><th>entities</th><td><table class=\"table table-bordered\"><tr><th>urls</th><td><table class=\"table table-bordered\"><thead><tr><th>start</th><th>end</th><th>url</th><th>expanded_url</th><th>display_url</th></tr></thead><tbody><tr><td>27</td><td>50</td><td>https://t.co/e3WewDSQOJ</td><td>https://twitter.com/Marck_Arthurr/status/1421427574526431235</td><td>twitter.com/Marck_Arthurr/…</td></tr></tbody></table></td></tr></table></td></tr></table></li></ul>"
      ],
      "text/plain": [
       "<IPython.core.display.HTML object>"
      ]
     },
     "metadata": {},
     "output_type": "display_data"
    }
   ],
   "source": [
    "pretty_dict_display(tweets)"
   ]
  },
  {
   "cell_type": "markdown",
   "id": "6ab9b700-ee17-465b-8d86-c1fcd7eaff38",
   "metadata": {},
   "source": [
    "##### ***2.** Process the tweets in a pandas.DataFrame*"
   ]
  },
  {
   "cell_type": "code",
   "execution_count": 4,
   "id": "e7c1d4e7-f936-4044-944d-84074092b62e",
   "metadata": {
    "ExecuteTime": {
     "end_time": "2024-12-09T16:26:13.304622Z",
     "start_time": "2024-12-09T16:26:12.535220Z"
    }
   },
   "outputs": [
    {
     "name": "stderr",
     "output_type": "stream",
     "text": [
      "[2024-12-09 18:52:58,465] ::InPoDAPipeline:: (INFO) - Processing tweets into a DataFrame...\n",
      "Some weights of XLMRobertaForSequenceClassification were not initialized from the model checkpoint at xlm-roberta-base and are newly initialized: ['classifier.dense.bias', 'classifier.dense.weight', 'classifier.out_proj.bias', 'classifier.out_proj.weight']\n",
      "You should probably TRAIN this model on a down-stream task to be able to use it for predictions and inference.\n",
      "Hardware accelerator e.g. GPU is available in the environment, but no `device` argument is passed to the `Pipeline` object. Model will be on CPU.\n",
      "Failed to determine 'entailment' label id from the label2id mapping in the model config. Setting to -1. Define a descriptive label2id mapping in the model config to ensure correct outputs.\n"
     ]
    },
    {
     "name": "stdout",
     "output_type": "stream",
     "text": [
      "Tweet n°0 analysé\n",
      "Tweet n°1 analysé\n",
      "Tweet n°2 analysé\n",
      "Tweet n°3 analysé\n",
      "Tweet n°4 analysé\n",
      "Tweet n°5 analysé\n",
      "Tweet n°6 analysé\n",
      "Tweet n°7 analysé\n",
      "Tweet n°8 analysé\n",
      "Tweet n°9 analysé\n",
      "Tweet n°10 analysé\n",
      "Tweet n°11 analysé\n",
      "Tweet n°12 analysé\n",
      "Tweet n°13 analysé\n",
      "Tweet n°14 analysé\n",
      "Tweet n°15 analysé\n",
      "Tweet n°16 analysé\n",
      "Tweet n°17 analysé\n",
      "Tweet n°18 analysé\n",
      "Tweet n°19 analysé\n"
     ]
    }
   ],
   "source": [
    "# Perform data extraction on the loaded tweets\n",
    "dataframe = pipeline.process_tweets_to_dataframe()"
   ]
  },
  {
   "cell_type": "code",
   "execution_count": 5,
   "id": "68db8a51-d139-496a-80c4-929dc7e1442a",
   "metadata": {},
   "outputs": [
    {
     "data": {
      "text/html": [
       "<div>\n",
       "<style scoped>\n",
       "    .dataframe tbody tr th:only-of-type {\n",
       "        vertical-align: middle;\n",
       "    }\n",
       "\n",
       "    .dataframe tbody tr th {\n",
       "        vertical-align: top;\n",
       "    }\n",
       "\n",
       "    .dataframe thead th {\n",
       "        text-align: right;\n",
       "    }\n",
       "</style>\n",
       "<table border=\"1\" class=\"dataframe\">\n",
       "  <thead>\n",
       "    <tr style=\"text-align: right;\">\n",
       "      <th></th>\n",
       "      <th>Auteur</th>\n",
       "      <th>Hashtags</th>\n",
       "      <th>Mentions</th>\n",
       "      <th>Contenu</th>\n",
       "      <th>Topics</th>\n",
       "    </tr>\n",
       "  </thead>\n",
       "  <tbody>\n",
       "    <tr>\n",
       "      <th>0</th>\n",
       "      <td>1339914264522461187</td>\n",
       "      <td>['#twitter225']</td>\n",
       "      <td>[]</td>\n",
       "      <td>Goumin des éléphants joueurs la même fatigue m...</td>\n",
       "      <td>Histoire</td>\n",
       "    </tr>\n",
       "    <tr>\n",
       "      <th>1</th>\n",
       "      <td>1339914264522461187</td>\n",
       "      <td>['#SupportriceMazo', '#domie', '#CIV']</td>\n",
       "      <td>['@ericbailly24', '@maxigr04del']</td>\n",
       "      <td>@ericbailly24 @maxigr04del  mes tontons vous a...</td>\n",
       "      <td>Gestion des ressources humaines</td>\n",
       "    </tr>\n",
       "    <tr>\n",
       "      <th>2</th>\n",
       "      <td>1339914264522461187</td>\n",
       "      <td>['#CIV']</td>\n",
       "      <td>[]</td>\n",
       "      <td>Ah oui le sommeil là sera compliqué. #CIV  est...</td>\n",
       "      <td>Internet des objets</td>\n",
       "    </tr>\n",
       "    <tr>\n",
       "      <th>3</th>\n",
       "      <td>1339914264522461187</td>\n",
       "      <td>['#jifa']</td>\n",
       "      <td>[]</td>\n",
       "      <td>31 juillet , journée internationale de la femm...</td>\n",
       "      <td>Jeux vidéo</td>\n",
       "    </tr>\n",
       "    <tr>\n",
       "      <th>4</th>\n",
       "      <td>717025418</td>\n",
       "      <td>[]</td>\n",
       "      <td>[]</td>\n",
       "      <td>Le pedigree 😂😂😂😂 https://t.co/D3Rv7A2BOF</td>\n",
       "      <td>Ingénierie aérospatiale</td>\n",
       "    </tr>\n",
       "  </tbody>\n",
       "</table>\n",
       "</div>"
      ],
      "text/plain": [
       "                Auteur                                Hashtags  \\\n",
       "0  1339914264522461187                         ['#twitter225']   \n",
       "1  1339914264522461187  ['#SupportriceMazo', '#domie', '#CIV']   \n",
       "2  1339914264522461187                                ['#CIV']   \n",
       "3  1339914264522461187                               ['#jifa']   \n",
       "4            717025418                                      []   \n",
       "\n",
       "                            Mentions  \\\n",
       "0                                 []   \n",
       "1  ['@ericbailly24', '@maxigr04del']   \n",
       "2                                 []   \n",
       "3                                 []   \n",
       "4                                 []   \n",
       "\n",
       "                                             Contenu  \\\n",
       "0  Goumin des éléphants joueurs la même fatigue m...   \n",
       "1  @ericbailly24 @maxigr04del  mes tontons vous a...   \n",
       "2  Ah oui le sommeil là sera compliqué. #CIV  est...   \n",
       "3  31 juillet , journée internationale de la femm...   \n",
       "4           Le pedigree 😂😂😂😂 https://t.co/D3Rv7A2BOF   \n",
       "\n",
       "                            Topics  \n",
       "0                         Histoire  \n",
       "1  Gestion des ressources humaines  \n",
       "2              Internet des objets  \n",
       "3                       Jeux vidéo  \n",
       "4          Ingénierie aérospatiale  "
      ]
     },
     "execution_count": 5,
     "metadata": {},
     "output_type": "execute_result"
    }
   ],
   "source": [
    "dataframe.head()"
   ]
  },
  {
   "cell_type": "markdown",
   "id": "591af8ec-d5c8-44fb-a265-fdf1ac85517f",
   "metadata": {},
   "source": [
    "##### *(**3.** Annex: Sentiment Analysis)*\n",
    "\n",
    "For learning purposes, we tried to create our own Neural Network model, trained to find the sentiment of a tweet. We used a Genetic Algorithm approach to explore solutions as we were not at ease with backpropagation. The training dataset is Sentiment140, around 1.6 millions tweets annoted for sentiment analysis. We embedded the training tweets using a multilingual model as the project tweets were in French and Sentiment140's are in english.\n",
    "\n",
    "In the following cells, we try to present the global pipeline of model usage and training. However, training the model can cost a lot in terms of resources, so the code is commented by default.\n",
    "\n",
    "PS: As the results were too bad for any practical usage, InPoDA uses textblob for the moment until we find a valid solution. The predictions are very off the expected results, we get all fed data to be more or less in the same category. Which is strange because during training everything seems fine... An error lies between training and model usage: during training we have almost perfect results but when testing the best model we only get 50% accuracy.\n"
   ]
  },
  {
   "cell_type": "markdown",
   "id": "f0c32cc8-118e-4b39-8ef0-993ae9de900e",
   "metadata": {},
   "source": [
    "###### **a.** Model loading"
   ]
  },
  {
   "cell_type": "code",
   "execution_count": 6,
   "id": "386fcdc6-2844-4478-a71c-da748b099f12",
   "metadata": {
    "ExecuteTime": {
     "end_time": "2024-12-09T16:26:13.450654859Z",
     "start_time": "2024-12-07T16:54:09.714009Z"
    },
    "jupyter": {
     "is_executing": true
    }
   },
   "outputs": [
    {
     "name": "stderr",
     "output_type": "stream",
     "text": [
      "[2024-12-09 18:53:53,787] ::InPoDAPipeline:: (INFO) - Loading a pre-trained creature...\n"
     ]
    }
   ],
   "source": [
    "# Loads the best pre-computed model\n",
    "pipeline.load_creature()"
   ]
  },
  {
   "cell_type": "markdown",
   "id": "f3224487-79aa-43d6-9c00-156d7413b936",
   "metadata": {},
   "source": [
    "###### **b.** Model usage"
   ]
  },
  {
   "cell_type": "code",
   "execution_count": 7,
   "id": "a4be197a-6032-4ec0-9ee7-47f6758a66b1",
   "metadata": {},
   "outputs": [
    {
     "name": "stderr",
     "output_type": "stream",
     "text": [
      "[2024-12-09 18:53:53,855] ::InPoDAPipeline:: (INFO) - Processing input data...\n"
     ]
    },
    {
     "name": "stdout",
     "output_type": "stream",
     "text": [
      "4.0\n"
     ]
    },
    {
     "data": {
      "text/plain": [
       "'positive'"
      ]
     },
     "execution_count": 7,
     "metadata": {},
     "output_type": "execute_result"
    }
   ],
   "source": [
    "# Example usage of the pre-computed model\n",
    "test_tweet = \"I'm so happy\"\n",
    "\n",
    "pipeline.process_input(test_tweet)"
   ]
  },
  {
   "cell_type": "markdown",
   "id": "361e0802-14e2-449d-89d8-dd42ff28f7d1",
   "metadata": {},
   "source": [
    "###### (**c.** Model training)"
   ]
  },
  {
   "cell_type": "code",
   "execution_count": 8,
   "id": "02069beb-6654-4ba7-8ab8-bc18f44aca0c",
   "metadata": {},
   "outputs": [
    {
     "name": "stderr",
     "output_type": "stream",
     "text": [
      "[2024-12-09 18:53:54,173] ::InPoDAPipeline:: (INFO) - Computing chunks...\n",
      "[2024-12-09 18:54:20,182] ::InPoDAPipeline:: (INFO) - Chunks done.\n"
     ]
    }
   ],
   "source": [
    "# The dataset is very big and (1.6 million tweets) and it can be heavy on memory to store that much embeddings (768 * 2 bytes * 1.6 million ~= 2.3 GB)\n",
    "# To prevent this, it treats the data chunk by chunk and save those chunks onto the disk in order to load these chunks only when needed during training.\n",
    "# By default, chunks computation occurs every time but it can be expensive so we left the option to disable it\n",
    "run_chunks = True\n",
    "\n",
    "if run_chunks: \n",
    "    pipeline.compute_chunks()\n"
   ]
  },
  {
   "cell_type": "code",
   "execution_count": 9,
   "id": "f5119740-de82-4bf4-a9f3-1ba43974cc4f",
   "metadata": {},
   "outputs": [
    {
     "name": "stderr",
     "output_type": "stream",
     "text": [
      "[2024-12-09 18:54:20,185] ::InPoDAPipeline:: (INFO) - Loading training data...\n",
      "[2024-12-09 18:55:06,293] ::InPoDAPipeline:: (INFO) - Loaded training data with 39999 tweets.\n"
     ]
    }
   ],
   "source": [
    "# Loads as a pandas.DataFrame the training data (all computed chunks)\n",
    "# Configuration can be updated in the `config.json` file\n",
    "\n",
    "pipeline.load_training_data()"
   ]
  },
  {
   "cell_type": "code",
   "execution_count": 10,
   "id": "a6cf7cc2-3230-4caa-bfc9-70ecbc170238",
   "metadata": {},
   "outputs": [
    {
     "data": {
      "text/html": [
       "<div>\n",
       "<style scoped>\n",
       "    .dataframe tbody tr th:only-of-type {\n",
       "        vertical-align: middle;\n",
       "    }\n",
       "\n",
       "    .dataframe tbody tr th {\n",
       "        vertical-align: top;\n",
       "    }\n",
       "\n",
       "    .dataframe thead th {\n",
       "        text-align: right;\n",
       "    }\n",
       "</style>\n",
       "<table border=\"1\" class=\"dataframe\">\n",
       "  <thead>\n",
       "    <tr style=\"text-align: right;\">\n",
       "      <th></th>\n",
       "      <th>sentiment</th>\n",
       "      <th>text</th>\n",
       "      <th>embeddings</th>\n",
       "    </tr>\n",
       "  </thead>\n",
       "  <tbody>\n",
       "    <tr>\n",
       "      <th>0</th>\n",
       "      <td>0.0</td>\n",
       "      <td>is upset that he can't update his Facebook by ...</td>\n",
       "      <td>[0.0, 0.0, 0.0, 0.0, 0.0, 0.0, 0.0, 0.0, 0.0, ...</td>\n",
       "    </tr>\n",
       "    <tr>\n",
       "      <th>1</th>\n",
       "      <td>0.0</td>\n",
       "      <td>I dived many times for the ball. Managed to sa...</td>\n",
       "      <td>[0.0, 0.0, 0.0, 0.0, 0.0, 0.0, 0.0, 0.0, 0.0, ...</td>\n",
       "    </tr>\n",
       "    <tr>\n",
       "      <th>2</th>\n",
       "      <td>0.0</td>\n",
       "      <td>my whole body feels itchy and like its on fire</td>\n",
       "      <td>[0.0, 0.0, 0.0, 0.0, 0.0, 0.0, 0.0, 0.0, 0.0, ...</td>\n",
       "    </tr>\n",
       "    <tr>\n",
       "      <th>3</th>\n",
       "      <td>0.0</td>\n",
       "      <td>no, it's not behaving at all. i'm mad. why am ...</td>\n",
       "      <td>[0.0, 0.0, 0.0, 0.0, 0.0, 0.0, 0.0, 0.0, 0.0, ...</td>\n",
       "    </tr>\n",
       "    <tr>\n",
       "      <th>4</th>\n",
       "      <td>0.0</td>\n",
       "      <td>not the whole crew</td>\n",
       "      <td>[0.0, 0.0, 0.0, 0.0, 0.0, 0.0, 0.0, 0.0, 0.0, ...</td>\n",
       "    </tr>\n",
       "  </tbody>\n",
       "</table>\n",
       "</div>"
      ],
      "text/plain": [
       "   sentiment                                               text  \\\n",
       "0        0.0  is upset that he can't update his Facebook by ...   \n",
       "1        0.0  I dived many times for the ball. Managed to sa...   \n",
       "2        0.0     my whole body feels itchy and like its on fire   \n",
       "3        0.0  no, it's not behaving at all. i'm mad. why am ...   \n",
       "4        0.0                                 not the whole crew   \n",
       "\n",
       "                                          embeddings  \n",
       "0  [0.0, 0.0, 0.0, 0.0, 0.0, 0.0, 0.0, 0.0, 0.0, ...  \n",
       "1  [0.0, 0.0, 0.0, 0.0, 0.0, 0.0, 0.0, 0.0, 0.0, ...  \n",
       "2  [0.0, 0.0, 0.0, 0.0, 0.0, 0.0, 0.0, 0.0, 0.0, ...  \n",
       "3  [0.0, 0.0, 0.0, 0.0, 0.0, 0.0, 0.0, 0.0, 0.0, ...  \n",
       "4  [0.0, 0.0, 0.0, 0.0, 0.0, 0.0, 0.0, 0.0, 0.0, ...  "
      ]
     },
     "execution_count": 10,
     "metadata": {},
     "output_type": "execute_result"
    }
   ],
   "source": [
    "# The data is split in 2: first half is negative (sentiment 0)\n",
    "pipeline.data.head()"
   ]
  },
  {
   "cell_type": "code",
   "execution_count": 11,
   "id": "8b35217b-5363-4064-875e-ce3e3c899e0b",
   "metadata": {},
   "outputs": [
    {
     "data": {
      "text/html": [
       "<div>\n",
       "<style scoped>\n",
       "    .dataframe tbody tr th:only-of-type {\n",
       "        vertical-align: middle;\n",
       "    }\n",
       "\n",
       "    .dataframe tbody tr th {\n",
       "        vertical-align: top;\n",
       "    }\n",
       "\n",
       "    .dataframe thead th {\n",
       "        text-align: right;\n",
       "    }\n",
       "</style>\n",
       "<table border=\"1\" class=\"dataframe\">\n",
       "  <thead>\n",
       "    <tr style=\"text-align: right;\">\n",
       "      <th></th>\n",
       "      <th>sentiment</th>\n",
       "      <th>text</th>\n",
       "      <th>embeddings</th>\n",
       "    </tr>\n",
       "  </thead>\n",
       "  <tbody>\n",
       "    <tr>\n",
       "      <th>39994</th>\n",
       "      <td>4.0</td>\n",
       "      <td>Just woke up. Having no school is the best fee...</td>\n",
       "      <td>[0.0, 0.0, 0.0, 0.0, 0.0, 0.0, 0.0, 0.0, 0.0, ...</td>\n",
       "    </tr>\n",
       "    <tr>\n",
       "      <th>39995</th>\n",
       "      <td>4.0</td>\n",
       "      <td>TheWDB.com - Very cool to hear old Walt interv...</td>\n",
       "      <td>[0.0, 0.0, 0.0, 0.0, 0.0, 0.0, 0.0, 0.0, 0.0, ...</td>\n",
       "    </tr>\n",
       "    <tr>\n",
       "      <th>39996</th>\n",
       "      <td>4.0</td>\n",
       "      <td>Are you ready for your MoJo Makeover? Ask me f...</td>\n",
       "      <td>[0.0, 0.0, 0.0, 0.0, 0.0, 0.0, 0.0, 0.0, 0.0, ...</td>\n",
       "    </tr>\n",
       "    <tr>\n",
       "      <th>39997</th>\n",
       "      <td>4.0</td>\n",
       "      <td>Happy 38th Birthday to my boo of alll time!!! ...</td>\n",
       "      <td>[0.0, 0.0, 0.0, 0.0, 0.0, 0.0, 0.0, 0.0, 0.0, ...</td>\n",
       "    </tr>\n",
       "    <tr>\n",
       "      <th>39998</th>\n",
       "      <td>4.0</td>\n",
       "      <td>happy</td>\n",
       "      <td>[0.0, 0.0, 0.0, 0.0, 0.0, 0.0, 0.0, 0.0, 0.0, ...</td>\n",
       "    </tr>\n",
       "  </tbody>\n",
       "</table>\n",
       "</div>"
      ],
      "text/plain": [
       "       sentiment                                               text  \\\n",
       "39994        4.0  Just woke up. Having no school is the best fee...   \n",
       "39995        4.0  TheWDB.com - Very cool to hear old Walt interv...   \n",
       "39996        4.0  Are you ready for your MoJo Makeover? Ask me f...   \n",
       "39997        4.0  Happy 38th Birthday to my boo of alll time!!! ...   \n",
       "39998        4.0                                              happy   \n",
       "\n",
       "                                              embeddings  \n",
       "39994  [0.0, 0.0, 0.0, 0.0, 0.0, 0.0, 0.0, 0.0, 0.0, ...  \n",
       "39995  [0.0, 0.0, 0.0, 0.0, 0.0, 0.0, 0.0, 0.0, 0.0, ...  \n",
       "39996  [0.0, 0.0, 0.0, 0.0, 0.0, 0.0, 0.0, 0.0, 0.0, ...  \n",
       "39997  [0.0, 0.0, 0.0, 0.0, 0.0, 0.0, 0.0, 0.0, 0.0, ...  \n",
       "39998  [0.0, 0.0, 0.0, 0.0, 0.0, 0.0, 0.0, 0.0, 0.0, ...  "
      ]
     },
     "execution_count": 11,
     "metadata": {},
     "output_type": "execute_result"
    }
   ],
   "source": [
    "# Second half is positive (sentiment 4)\n",
    "pipeline.data.tail()"
   ]
  },
  {
   "cell_type": "code",
   "execution_count": 12,
   "id": "9093ce08-d124-4b32-a64e-59eb15898af2",
   "metadata": {},
   "outputs": [],
   "source": [
    "# Here we train a model based on the loaded data\n",
    "# Since it is very expensive, it doesn't run by default\n",
    "# Moreover, it is preferable to run directly the script `run_training.py` found in the ./sentiment_analysis/ folder\n",
    "# ! Be aware that you need to update the save file in `config.json` if you don't want to override pre-trained model !\n",
    "run = False\n",
    "\n",
    "if run:\n",
    "    pipeline.train_genetic_algorithm()"
   ]
  },
  {
   "cell_type": "markdown",
   "id": "6f5e13327b843cce",
   "metadata": {},
   "source": [
    "## II - Tweets data analysis\n",
    "---\n",
    "This part is a presentation of different analysis we can do using the data we loaded"
   ]
  },
  {
   "cell_type": "markdown",
   "id": "852b78d1-0f33-4969-ab14-4674139029f7",
   "metadata": {},
   "source": [
    "#### **0. Data Presentation**\n",
    "---\n",
    "Presentation of all unique Authors, Mentions, Hashtags"
   ]
  },
  {
   "cell_type": "code",
   "execution_count": 13,
   "id": "ff34fdea-2e2e-4118-b8f7-56ba57b7c98d",
   "metadata": {},
   "outputs": [
    {
     "name": "stderr",
     "output_type": "stream",
     "text": [
      "[2024-12-09 18:55:06,356] ::InPoDAPipeline:: (INFO) - Getting all authors...\n"
     ]
    },
    {
     "data": {
      "text/html": [
       "<div>\n",
       "<style scoped>\n",
       "    .dataframe tbody tr th:only-of-type {\n",
       "        vertical-align: middle;\n",
       "    }\n",
       "\n",
       "    .dataframe tbody tr th {\n",
       "        vertical-align: top;\n",
       "    }\n",
       "\n",
       "    .dataframe thead th {\n",
       "        text-align: right;\n",
       "    }\n",
       "</style>\n",
       "<table border=\"1\" class=\"dataframe\">\n",
       "  <thead>\n",
       "    <tr style=\"text-align: right;\">\n",
       "      <th></th>\n",
       "      <th>Authors</th>\n",
       "    </tr>\n",
       "  </thead>\n",
       "  <tbody>\n",
       "    <tr>\n",
       "      <th>0</th>\n",
       "      <td>60117154</td>\n",
       "    </tr>\n",
       "    <tr>\n",
       "      <th>1</th>\n",
       "      <td>2357913366</td>\n",
       "    </tr>\n",
       "    <tr>\n",
       "      <th>2</th>\n",
       "      <td>992904738516717570</td>\n",
       "    </tr>\n",
       "    <tr>\n",
       "      <th>3</th>\n",
       "      <td>717025418</td>\n",
       "    </tr>\n",
       "    <tr>\n",
       "      <th>4</th>\n",
       "      <td>372993152</td>\n",
       "    </tr>\n",
       "    <tr>\n",
       "      <th>5</th>\n",
       "      <td>1471684208</td>\n",
       "    </tr>\n",
       "    <tr>\n",
       "      <th>6</th>\n",
       "      <td>16267684</td>\n",
       "    </tr>\n",
       "    <tr>\n",
       "      <th>7</th>\n",
       "      <td>105241852</td>\n",
       "    </tr>\n",
       "    <tr>\n",
       "      <th>8</th>\n",
       "      <td>736523371</td>\n",
       "    </tr>\n",
       "    <tr>\n",
       "      <th>9</th>\n",
       "      <td>3169236915</td>\n",
       "    </tr>\n",
       "    <tr>\n",
       "      <th>10</th>\n",
       "      <td>1339914264522461187</td>\n",
       "    </tr>\n",
       "  </tbody>\n",
       "</table>\n",
       "</div>"
      ],
      "text/plain": [
       "                Authors\n",
       "0              60117154\n",
       "1            2357913366\n",
       "2    992904738516717570\n",
       "3             717025418\n",
       "4             372993152\n",
       "5            1471684208\n",
       "6              16267684\n",
       "7             105241852\n",
       "8             736523371\n",
       "9            3169236915\n",
       "10  1339914264522461187"
      ]
     },
     "execution_count": 13,
     "metadata": {},
     "output_type": "execute_result"
    }
   ],
   "source": [
    "# All authors\n",
    "pipeline.get_all_authors()"
   ]
  },
  {
   "cell_type": "code",
   "execution_count": 14,
   "id": "5721b88d-25f2-45e6-899e-f3e557fb0859",
   "metadata": {},
   "outputs": [
    {
     "name": "stderr",
     "output_type": "stream",
     "text": [
      "[2024-12-09 18:55:06,362] ::InPoDAPipeline:: (INFO) - Getting all mentions...\n"
     ]
    },
    {
     "data": {
      "text/html": [
       "<div>\n",
       "<style scoped>\n",
       "    .dataframe tbody tr th:only-of-type {\n",
       "        vertical-align: middle;\n",
       "    }\n",
       "\n",
       "    .dataframe tbody tr th {\n",
       "        vertical-align: top;\n",
       "    }\n",
       "\n",
       "    .dataframe thead th {\n",
       "        text-align: right;\n",
       "    }\n",
       "</style>\n",
       "<table border=\"1\" class=\"dataframe\">\n",
       "  <thead>\n",
       "    <tr style=\"text-align: right;\">\n",
       "      <th></th>\n",
       "      <th>Mentions</th>\n",
       "    </tr>\n",
       "  </thead>\n",
       "  <tbody>\n",
       "    <tr>\n",
       "      <th>0</th>\n",
       "      <td>@leonna_julie</td>\n",
       "    </tr>\n",
       "    <tr>\n",
       "      <th>1</th>\n",
       "      <td>@miliemelo82</td>\n",
       "    </tr>\n",
       "    <tr>\n",
       "      <th>2</th>\n",
       "      <td>@ericbailly24</td>\n",
       "    </tr>\n",
       "    <tr>\n",
       "      <th>3</th>\n",
       "      <td>@AzmiAnees3</td>\n",
       "    </tr>\n",
       "    <tr>\n",
       "      <th>4</th>\n",
       "      <td>@anniemacmanus</td>\n",
       "    </tr>\n",
       "    <tr>\n",
       "      <th>5</th>\n",
       "      <td>@isabelle170516</td>\n",
       "    </tr>\n",
       "    <tr>\n",
       "      <th>6</th>\n",
       "      <td>@LynLyna12</td>\n",
       "    </tr>\n",
       "    <tr>\n",
       "      <th>7</th>\n",
       "      <td>@lrestistant73</td>\n",
       "    </tr>\n",
       "    <tr>\n",
       "      <th>8</th>\n",
       "      <td>@Pauluskupa</td>\n",
       "    </tr>\n",
       "    <tr>\n",
       "      <th>9</th>\n",
       "      <td>@LeMeneec</td>\n",
       "    </tr>\n",
       "    <tr>\n",
       "      <th>10</th>\n",
       "      <td>@maxigr04del</td>\n",
       "    </tr>\n",
       "    <tr>\n",
       "      <th>11</th>\n",
       "      <td>@yebbasmith</td>\n",
       "    </tr>\n",
       "    <tr>\n",
       "      <th>12</th>\n",
       "      <td>@kilianbridoux</td>\n",
       "    </tr>\n",
       "    <tr>\n",
       "      <th>13</th>\n",
       "      <td>@Steiner2502</td>\n",
       "    </tr>\n",
       "    <tr>\n",
       "      <th>14</th>\n",
       "      <td>@Polo82810715</td>\n",
       "    </tr>\n",
       "  </tbody>\n",
       "</table>\n",
       "</div>"
      ],
      "text/plain": [
       "           Mentions\n",
       "0     @leonna_julie\n",
       "1      @miliemelo82\n",
       "2     @ericbailly24\n",
       "3       @AzmiAnees3\n",
       "4    @anniemacmanus\n",
       "5   @isabelle170516\n",
       "6        @LynLyna12\n",
       "7    @lrestistant73\n",
       "8       @Pauluskupa\n",
       "9         @LeMeneec\n",
       "10     @maxigr04del\n",
       "11      @yebbasmith\n",
       "12   @kilianbridoux\n",
       "13     @Steiner2502\n",
       "14    @Polo82810715"
      ]
     },
     "execution_count": 14,
     "metadata": {},
     "output_type": "execute_result"
    }
   ],
   "source": [
    "# All mentions\n",
    "pipeline.get_all_mentions()"
   ]
  },
  {
   "cell_type": "code",
   "execution_count": 15,
   "id": "a70a9d40-e0c2-47a8-b1c2-af5ba37e1f73",
   "metadata": {},
   "outputs": [
    {
     "name": "stderr",
     "output_type": "stream",
     "text": [
      "[2024-12-09 18:55:06,369] ::InPoDAPipeline:: (INFO) - Getting all hashtags...\n"
     ]
    },
    {
     "data": {
      "text/html": [
       "<div>\n",
       "<style scoped>\n",
       "    .dataframe tbody tr th:only-of-type {\n",
       "        vertical-align: middle;\n",
       "    }\n",
       "\n",
       "    .dataframe tbody tr th {\n",
       "        vertical-align: top;\n",
       "    }\n",
       "\n",
       "    .dataframe thead th {\n",
       "        text-align: right;\n",
       "    }\n",
       "</style>\n",
       "<table border=\"1\" class=\"dataframe\">\n",
       "  <thead>\n",
       "    <tr style=\"text-align: right;\">\n",
       "      <th></th>\n",
       "      <th>Hashtags</th>\n",
       "    </tr>\n",
       "  </thead>\n",
       "  <tbody>\n",
       "    <tr>\n",
       "      <th>0</th>\n",
       "      <td>#SupportriceMazo</td>\n",
       "    </tr>\n",
       "    <tr>\n",
       "      <th>1</th>\n",
       "      <td>#appollon</td>\n",
       "    </tr>\n",
       "    <tr>\n",
       "      <th>2</th>\n",
       "      <td>#twitter225</td>\n",
       "    </tr>\n",
       "    <tr>\n",
       "      <th>3</th>\n",
       "      <td>#domie</td>\n",
       "    </tr>\n",
       "    <tr>\n",
       "      <th>4</th>\n",
       "      <td>#versailles</td>\n",
       "    </tr>\n",
       "    <tr>\n",
       "      <th>5</th>\n",
       "      <td>#CIV</td>\n",
       "    </tr>\n",
       "    <tr>\n",
       "      <th>6</th>\n",
       "      <td>#nocturne</td>\n",
       "    </tr>\n",
       "    <tr>\n",
       "      <th>7</th>\n",
       "      <td>#jifa</td>\n",
       "    </tr>\n",
       "  </tbody>\n",
       "</table>\n",
       "</div>"
      ],
      "text/plain": [
       "           Hashtags\n",
       "0  #SupportriceMazo\n",
       "1         #appollon\n",
       "2       #twitter225\n",
       "3            #domie\n",
       "4       #versailles\n",
       "5              #CIV\n",
       "6         #nocturne\n",
       "7             #jifa"
      ]
     },
     "execution_count": 15,
     "metadata": {},
     "output_type": "execute_result"
    }
   ],
   "source": [
    "# All hashtags\n",
    "pipeline.get_all_hashtags()"
   ]
  },
  {
   "cell_type": "markdown",
   "id": "280fbe9f-a3d9-4279-bc11-1f7a9a0cf3a8",
   "metadata": {
    "jupyter": {
     "is_executing": true
    }
   },
   "source": [
    "#### 1. **Top K analysis**\n",
    "---\n",
    "We extract:\n",
    "\n",
    "    - Top K hastags   (Most used hashtags)\n",
    "    - Top K authors   (Users who posted the most tweets)\n",
    "    - Top K mentioned (Users who were the most mentioned)\n",
    "    - Top K topics    (Topics that comme back the most)\n"
   ]
  },
  {
   "cell_type": "code",
   "execution_count": 16,
   "id": "415c13b9-5259-489f-aadc-8c2f9b93e12e",
   "metadata": {},
   "outputs": [],
   "source": [
    "# Please set the desired K value here\n",
    "K = 5 "
   ]
  },
  {
   "cell_type": "code",
   "execution_count": 17,
   "id": "8af19f37-152c-4e11-82a6-b47adc9a9cf0",
   "metadata": {},
   "outputs": [
    {
     "name": "stderr",
     "output_type": "stream",
     "text": [
      "[2024-12-09 18:55:06,383] ::InPoDAPipeline:: (INFO) - Extracting top K hashtags...\n"
     ]
    },
    {
     "data": {
      "image/png": "[encoded data removed]",
      "text/plain": [
       "<Figure size 640x480 with 1 Axes>"
      ]
     },
     "metadata": {},
     "output_type": "display_data"
    }
   ],
   "source": [
    "# TOP K HASHTAGS\n",
    "pipeline.top_k_hashtags(k = K)"
   ]
  },
  {
   "cell_type": "code",
   "execution_count": 18,
   "id": "8b82ea06-3ed9-4535-b14b-1b9550ad2878",
   "metadata": {},
   "outputs": [
    {
     "name": "stderr",
     "output_type": "stream",
     "text": [
      "[2024-12-09 18:55:06,450] ::InPoDAPipeline:: (INFO) - Extracting top K authors...\n"
     ]
    },
    {
     "data": {
      "image/png": "[encoded data removed]",
      "text/plain": [
       "<Figure size 640x480 with 1 Axes>"
      ]
     },
     "metadata": {},
     "output_type": "display_data"
    }
   ],
   "source": [
    "# TOP K AUTHORS\n",
    "pipeline.top_k_authors(k = K)"
   ]
  },
  {
   "cell_type": "code",
   "execution_count": 19,
   "id": "0952edaf-69ec-43bf-93c3-f82e4a7c2f67",
   "metadata": {},
   "outputs": [
    {
     "name": "stderr",
     "output_type": "stream",
     "text": [
      "[2024-12-09 18:55:06,506] ::InPoDAPipeline:: (INFO) - Extracting top K users mentioned...\n"
     ]
    },
    {
     "data": {
      "image/png": "[encoded data removed]",
      "text/plain": [
       "<Figure size 640x480 with 1 Axes>"
      ]
     },
     "metadata": {},
     "output_type": "display_data"
    }
   ],
   "source": [
    "# TOP K MENTIONED\n",
    "pipeline.top_k_mentioned(k = K)"
   ]
  },
  {
   "cell_type": "code",
   "execution_count": 20,
   "id": "cd7193aa-1938-4fb5-bde7-ea7bb2e087d4",
   "metadata": {},
   "outputs": [
    {
     "name": "stderr",
     "output_type": "stream",
     "text": [
      "[2024-12-09 18:55:06,558] ::InPoDAPipeline:: (INFO) - Extracting top K topics...\n"
     ]
    },
    {
     "ename": "ValueError",
     "evalue": "not enough values to unpack (expected 2, got 0)",
     "output_type": "error",
     "traceback": [
      "\u001b[1;31m---------------------------------------------------------------------------\u001b[0m",
      "\u001b[1;31mValueError\u001b[0m                                Traceback (most recent call last)",
      "Cell \u001b[1;32mIn[20], line 2\u001b[0m\n\u001b[0;32m      1\u001b[0m \u001b[38;5;66;03m# TOP K TOPICS\u001b[39;00m\n\u001b[1;32m----> 2\u001b[0m \u001b[43mpipeline\u001b[49m\u001b[38;5;241;43m.\u001b[39;49m\u001b[43mtop_k_topics\u001b[49m\u001b[43m(\u001b[49m\u001b[43mk\u001b[49m\u001b[43m \u001b[49m\u001b[38;5;241;43m=\u001b[39;49m\u001b[43m \u001b[49m\u001b[43mK\u001b[49m\u001b[43m)\u001b[49m\n",
      "File \u001b[1;32m~\\PycharmProjects\\InPoDA-project-in304\\InPoDA_Pipeline.py:274\u001b[0m, in \u001b[0;36mInPoDAPipeline.top_k_topics\u001b[1;34m(self, k)\u001b[0m\n\u001b[0;32m    272\u001b[0m \u001b[38;5;28mself\u001b[39m\u001b[38;5;241m.\u001b[39mlogger\u001b[38;5;241m.\u001b[39minfo(\u001b[38;5;124m\"\u001b[39m\u001b[38;5;124mExtracting top K topics...\u001b[39m\u001b[38;5;124m\"\u001b[39m)\n\u001b[0;32m    273\u001b[0m topics_ \u001b[38;5;241m=\u001b[39m Partie_Julien_Konstantinov\u001b[38;5;241m.\u001b[39mtop_K_topics(\u001b[38;5;28mself\u001b[39m\u001b[38;5;241m.\u001b[39mtweets_dataframe, k)\n\u001b[1;32m--> 274\u001b[0m labels, occurrences \u001b[38;5;241m=\u001b[39m \u001b[38;5;28mzip\u001b[39m(\u001b[38;5;241m*\u001b[39mtopics_)\n\u001b[0;32m    275\u001b[0m show_bar_graph(\u001b[38;5;124mf\u001b[39m\u001b[38;5;124m\"\u001b[39m\u001b[38;5;124mTop K=\u001b[39m\u001b[38;5;132;01m{\u001b[39;00mk\u001b[38;5;132;01m}\u001b[39;00m\u001b[38;5;124m Topics\u001b[39m\u001b[38;5;124m\"\u001b[39m, \u001b[38;5;124m\"\u001b[39m\u001b[38;5;124mTopics\u001b[39m\u001b[38;5;124m\"\u001b[39m, \u001b[38;5;124m\"\u001b[39m\u001b[38;5;124mOccurrences\u001b[39m\u001b[38;5;124m\"\u001b[39m, labels, occurrences)\n",
      "\u001b[1;31mValueError\u001b[0m: not enough values to unpack (expected 2, got 0)"
     ]
    }
   ],
   "source": [
    "# TOP K TOPICS\n",
    "pipeline.top_k_topics(k = K)"
   ]
  },
  {
   "cell_type": "markdown",
   "id": "d3a9d78b-b9f8-4363-9b11-9a2594de43e5",
   "metadata": {},
   "source": [
    "#### **2. Number of tweets per X**\n",
    "---\n",
    "We extract:\n",
    "\n",
    "    - Number of tweets per user\n",
    "    - Number of tweets per hashtags\n",
    "    - Number of tweets per topics\n"
   ]
  },
  {
   "cell_type": "code",
   "execution_count": null,
   "id": "bc63ec78-f10b-48ba-9777-f8390a6918b2",
   "metadata": {},
   "outputs": [],
   "source": [
    "# Number of tweets per user"
   ]
  },
  {
   "cell_type": "code",
   "execution_count": null,
   "id": "333a6c50-295d-407b-98f6-3f62d95ba57d",
   "metadata": {},
   "outputs": [],
   "source": [
    "# Number of tweets per hashtags"
   ]
  },
  {
   "cell_type": "code",
   "execution_count": null,
   "id": "2b8408ca-d86a-49b7-8db6-cb18f0c1432e",
   "metadata": {},
   "outputs": [],
   "source": [
    "# Number of tweets per topics"
   ]
  },
  {
   "cell_type": "markdown",
   "id": "8775f8ce-d972-44ed-8230-4feacd5967cb",
   "metadata": {},
   "source": [
    "#### **3. User analysis**\n",
    "---\n",
    "We extract all tweets from a provided user"
   ]
  },
  {
   "cell_type": "code",
   "execution_count": null,
   "id": "a625eb6b-9997-445e-a50d-6a0e1c0d3d34",
   "metadata": {},
   "outputs": [],
   "source": [
    "# Set user\n",
    "user = \"\""
   ]
  },
  {
   "cell_type": "code",
   "execution_count": null,
   "id": "ccac0994-d5de-4118-87d9-bcfebc73abe7",
   "metadata": {},
   "outputs": [],
   "source": [
    "# All tweets from user"
   ]
  },
  {
   "cell_type": "markdown",
   "id": "f28304e9-2555-4aa0-968e-4512f642d78d",
   "metadata": {},
   "source": [
    "#### 4. Usage analysis\n",
    "---\n",
    "\n",
    "We extract:\n",
    "\n",
    "    - All tweets mentionning a specific user\n",
    "    - All users using a specific hashtag\n",
    "    - All users mentionned by a specific user"
   ]
  },
  {
   "cell_type": "code",
   "execution_count": null,
   "id": "bbe764da-ff55-4f3a-9f3a-6ab63487dd77",
   "metadata": {},
   "outputs": [],
   "source": [
    "# All tweets mentionning a specific user\n",
    "user = \"\""
   ]
  },
  {
   "cell_type": "code",
   "execution_count": null,
   "id": "144c73be-d73a-4ff0-828c-2fed92d0ea3e",
   "metadata": {},
   "outputs": [],
   "source": [
    "# All users using a hashtag\n",
    "hashtag = \"\""
   ]
  },
  {
   "cell_type": "code",
   "execution_count": null,
   "id": "f01abeb3-adfe-4e8d-a6b0-be0de2f894a4",
   "metadata": {},
   "outputs": [],
   "source": [
    "# All users mentionned by a specific user\n",
    "user = \"\""
   ]
  },
  {
   "cell_type": "markdown",
   "id": "5ee482de-7b11-4d13-8e74-b9737773cad8",
   "metadata": {},
   "source": [
    "## III - References\n",
    "---\n",
    "Dataset:\n",
    "`Sentiment140 dataset with 1.6 million tweets. (2017, September 13). https://www.kaggle.com/datasets/kazanova/sentiment140`\n",
    "\n",
    "Genetic Algorithm:\n",
    "`9. Evolutionary computing. (n.d.). https://natureofcode.com/genetic-algorithms/`"
   ]
  }
 ],
 "metadata": {
  "kernelspec": {
   "display_name": "Python 3 (ipykernel)",
   "language": "python",
   "name": "python3"
  },
  "language_info": {
   "codemirror_mode": {
    "name": "ipython",
    "version": 3
   },
   "file_extension": ".py",
   "mimetype": "text/x-python",
   "name": "python",
   "nbconvert_exporter": "python",
   "pygments_lexer": "ipython3",
   "version": "3.12.7"
  }
 },
 "nbformat": 4,
 "nbformat_minor": 5
}
